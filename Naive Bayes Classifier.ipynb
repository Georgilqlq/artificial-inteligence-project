{
 "cells": [
  {
   "cell_type": "markdown",
   "id": "6cbf2a03",
   "metadata": {},
   "source": [
    "# Image classifier"
   ]
  },
  {
   "cell_type": "code",
   "execution_count": 3,
   "id": "64e322c2",
   "metadata": {
    "scrolled": false
   },
   "outputs": [
    {
     "name": "stdout",
     "output_type": "stream",
     "text": [
      "Requirement already satisfied: torch in c:\\users\\asus\\anaconda3\\envs\\mnist_venv\\lib\\site-packages (1.10.2)\n",
      "Requirement already satisfied: typing-extensions in c:\\users\\asus\\anaconda3\\envs\\mnist_venv\\lib\\site-packages (from torch) (3.7.4.3)\n",
      "Requirement already satisfied: dataclasses in c:\\users\\asus\\anaconda3\\envs\\mnist_venv\\lib\\site-packages (from torch) (0.8)\n"
     ]
    },
    {
     "name": "stderr",
     "output_type": "stream",
     "text": [
      "WARNING: Ignoring invalid distribution -rotobuf (c:\\users\\asus\\anaconda3\\envs\\mnist_venv\\lib\\site-packages)\n",
      "WARNING: Ignoring invalid distribution -rotobuf (c:\\users\\asus\\anaconda3\\envs\\mnist_venv\\lib\\site-packages)\n",
      "WARNING: Ignoring invalid distribution -rotobuf (c:\\users\\asus\\anaconda3\\envs\\mnist_venv\\lib\\site-packages)\n",
      "WARNING: Ignoring invalid distribution -rotobuf (c:\\users\\asus\\anaconda3\\envs\\mnist_venv\\lib\\site-packages)\n",
      "WARNING: Ignoring invalid distribution -rotobuf (c:\\users\\asus\\anaconda3\\envs\\mnist_venv\\lib\\site-packages)\n",
      "WARNING: Ignoring invalid distribution -rotobuf (c:\\users\\asus\\anaconda3\\envs\\mnist_venv\\lib\\site-packages)\n"
     ]
    },
    {
     "name": "stdout",
     "output_type": "stream",
     "text": [
      "Requirement already satisfied: torchvision in c:\\users\\asus\\anaconda3\\envs\\mnist_venv\\lib\\site-packages (0.11.3)\n",
      "Requirement already satisfied: pillow!=8.3.0,>=5.3.0 in c:\\users\\asus\\anaconda3\\envs\\mnist_venv\\lib\\site-packages (from torchvision) (8.4.0)\n",
      "Requirement already satisfied: numpy in c:\\users\\asus\\anaconda3\\envs\\mnist_venv\\lib\\site-packages (from torchvision) (1.19.5)\n",
      "Requirement already satisfied: torch==1.10.2 in c:\\users\\asus\\anaconda3\\envs\\mnist_venv\\lib\\site-packages (from torchvision) (1.10.2)\n",
      "Requirement already satisfied: dataclasses in c:\\users\\asus\\anaconda3\\envs\\mnist_venv\\lib\\site-packages (from torch==1.10.2->torchvision) (0.8)\n",
      "Requirement already satisfied: typing-extensions in c:\\users\\asus\\anaconda3\\envs\\mnist_venv\\lib\\site-packages (from torch==1.10.2->torchvision) (3.7.4.3)\n"
     ]
    },
    {
     "name": "stderr",
     "output_type": "stream",
     "text": [
      "WARNING: Ignoring invalid distribution -rotobuf (c:\\users\\asus\\anaconda3\\envs\\mnist_venv\\lib\\site-packages)\n",
      "WARNING: Ignoring invalid distribution -rotobuf (c:\\users\\asus\\anaconda3\\envs\\mnist_venv\\lib\\site-packages)\n",
      "WARNING: Ignoring invalid distribution -rotobuf (c:\\users\\asus\\anaconda3\\envs\\mnist_venv\\lib\\site-packages)\n",
      "WARNING: Ignoring invalid distribution -rotobuf (c:\\users\\asus\\anaconda3\\envs\\mnist_venv\\lib\\site-packages)\n",
      "WARNING: Ignoring invalid distribution -rotobuf (c:\\users\\asus\\anaconda3\\envs\\mnist_venv\\lib\\site-packages)\n",
      "WARNING: Ignoring invalid distribution -rotobuf (c:\\users\\asus\\anaconda3\\envs\\mnist_venv\\lib\\site-packages)\n"
     ]
    }
   ],
   "source": [
    "!pip install torch\n",
    "!pip install torchvision"
   ]
  },
  {
   "cell_type": "code",
   "execution_count": 48,
   "id": "cae218e2",
   "metadata": {},
   "outputs": [],
   "source": [
    "import torch\n",
    "import torchvision\n",
    "from torchvision import transforms\n",
    "import numpy as np\n",
    "import warnings\n",
    "warnings.filterwarnings('ignore')\n",
    "from sklearn.metrics import classification_report,accuracy_score,f1_score\n",
    "from sklearn.model_selection import GridSearchCV,cross_validate,train_test_split\n",
    "from sklearn.naive_bayes import GaussianNB,MultinomialNB,ComplementNB,BernoulliNB,CategoricalNB\n",
    "from sklearn.ensemble import GradientBoostingClassifier,AdaBoostClassifier\n",
    "import matplotlib.pyplot as plt"
   ]
  },
  {
   "cell_type": "markdown",
   "id": "653e18e3",
   "metadata": {},
   "source": [
    "## Dataset"
   ]
  },
  {
   "cell_type": "code",
   "execution_count": 3,
   "id": "7482200c",
   "metadata": {},
   "outputs": [],
   "source": [
    "transformer = transforms.Compose([\n",
    "                               torchvision.transforms.ToTensor(),\n",
    "    transforms.Lambda(lambda x: torch.flatten(x)),\n",
    "                             ])"
   ]
  },
  {
   "cell_type": "code",
   "execution_count": 4,
   "id": "2293a683",
   "metadata": {},
   "outputs": [
    {
     "name": "stdout",
     "output_type": "stream",
     "text": [
      "Downloading http://fashion-mnist.s3-website.eu-central-1.amazonaws.com/train-images-idx3-ubyte.gz\n",
      "Downloading http://fashion-mnist.s3-website.eu-central-1.amazonaws.com/train-images-idx3-ubyte.gz to ./files/fashion-mnist/FashionMNIST\\raw\\train-images-idx3-ubyte.gz\n"
     ]
    },
    {
     "name": "stderr",
     "output_type": "stream",
     "text": [
      "26422272it [00:05, 4669090.01it/s]                                                                                     \n"
     ]
    },
    {
     "name": "stdout",
     "output_type": "stream",
     "text": [
      "Extracting ./files/fashion-mnist/FashionMNIST\\raw\\train-images-idx3-ubyte.gz to ./files/fashion-mnist/FashionMNIST\\raw\n",
      "\n",
      "Downloading http://fashion-mnist.s3-website.eu-central-1.amazonaws.com/train-labels-idx1-ubyte.gz\n",
      "Downloading http://fashion-mnist.s3-website.eu-central-1.amazonaws.com/train-labels-idx1-ubyte.gz to ./files/fashion-mnist/FashionMNIST\\raw\\train-labels-idx1-ubyte.gz\n"
     ]
    },
    {
     "name": "stderr",
     "output_type": "stream",
     "text": [
      "29696it [00:00, 912009.52it/s]                                                                                         \n"
     ]
    },
    {
     "name": "stdout",
     "output_type": "stream",
     "text": [
      "Extracting ./files/fashion-mnist/FashionMNIST\\raw\\train-labels-idx1-ubyte.gz to ./files/fashion-mnist/FashionMNIST\\raw\n",
      "\n",
      "Downloading http://fashion-mnist.s3-website.eu-central-1.amazonaws.com/t10k-images-idx3-ubyte.gz\n",
      "Downloading http://fashion-mnist.s3-website.eu-central-1.amazonaws.com/t10k-images-idx3-ubyte.gz to ./files/fashion-mnist/FashionMNIST\\raw\\t10k-images-idx3-ubyte.gz\n"
     ]
    },
    {
     "name": "stderr",
     "output_type": "stream",
     "text": [
      "4422656it [00:00, 5766189.35it/s]                                                                                      \n"
     ]
    },
    {
     "name": "stdout",
     "output_type": "stream",
     "text": [
      "Extracting ./files/fashion-mnist/FashionMNIST\\raw\\t10k-images-idx3-ubyte.gz to ./files/fashion-mnist/FashionMNIST\\raw\n",
      "\n",
      "Downloading http://fashion-mnist.s3-website.eu-central-1.amazonaws.com/t10k-labels-idx1-ubyte.gz\n",
      "Downloading http://fashion-mnist.s3-website.eu-central-1.amazonaws.com/t10k-labels-idx1-ubyte.gz to ./files/fashion-mnist/FashionMNIST\\raw\\t10k-labels-idx1-ubyte.gz\n"
     ]
    },
    {
     "name": "stderr",
     "output_type": "stream",
     "text": [
      "6144it [00:00, 6097918.55it/s]                                                                                         "
     ]
    },
    {
     "name": "stdout",
     "output_type": "stream",
     "text": [
      "Extracting ./files/fashion-mnist/FashionMNIST\\raw\\t10k-labels-idx1-ubyte.gz to ./files/fashion-mnist/FashionMNIST\\raw\n",
      "\n"
     ]
    },
    {
     "name": "stderr",
     "output_type": "stream",
     "text": [
      "\n"
     ]
    }
   ],
   "source": [
    "train_set=torchvision.datasets.FashionMNIST('./files/fashion-mnist/', train=True, download=True,\n",
    "                             transform=transformer)\n",
    "\n",
    "test_set=torchvision.datasets.FashionMNIST('./files/fashion-mnist/', train=False, download=True,\n",
    "                             transform=transformer)\n",
    "\n",
    "batch_size_train= len(train_set)//5\n",
    "batch_size_test=len(test_set)"
   ]
  },
  {
   "cell_type": "code",
   "execution_count": 5,
   "id": "eed02feb",
   "metadata": {
    "scrolled": true
   },
   "outputs": [],
   "source": [
    "train_loader = torch.utils.data.DataLoader(\n",
    "  train_set,\n",
    "  batch_size=batch_size_train, shuffle=True)\n",
    "\n",
    "test_loader = torch.utils.data.DataLoader(\n",
    "  test_set,\n",
    "  batch_size=batch_size_test, shuffle=True)"
   ]
  },
  {
   "cell_type": "code",
   "execution_count": 6,
   "id": "f35a0404",
   "metadata": {},
   "outputs": [],
   "source": [
    "train_enumerated = enumerate(train_loader)\n",
    "batch_idx, (train_x, train_y) = next(train_enumerated)\n",
    "\n",
    "test_enumerated = enumerate(test_loader)\n",
    "batch_idx, (test_x, test_y) = next(test_enumerated)"
   ]
  },
  {
   "cell_type": "code",
   "execution_count": 7,
   "id": "f8d81cf2",
   "metadata": {},
   "outputs": [
    {
     "data": {
      "text/plain": [
       "torch.Size([12000, 784])"
      ]
     },
     "execution_count": 7,
     "metadata": {},
     "output_type": "execute_result"
    }
   ],
   "source": [
    "train_x.shape"
   ]
  },
  {
   "cell_type": "code",
   "execution_count": 8,
   "id": "82ffe68d",
   "metadata": {},
   "outputs": [
    {
     "data": {
      "text/plain": [
       "torch.Size([784])"
      ]
     },
     "execution_count": 8,
     "metadata": {},
     "output_type": "execute_result"
    }
   ],
   "source": [
    "train_x[1].shape"
   ]
  },
  {
   "cell_type": "markdown",
   "id": "9c2144a4",
   "metadata": {},
   "source": [
    "## Models\n",
    "### Comparing the models\n",
    "\n",
    "We will make a cross validation for the four models and compare them."
   ]
  },
  {
   "cell_type": "code",
   "execution_count": 9,
   "id": "8fb19edb",
   "metadata": {},
   "outputs": [],
   "source": [
    "model_lbls = [\n",
    "              'gnb', \n",
    "              'mnb', \n",
    "              'cnb', \n",
    "              'bnb', \n",
    "            ]\n",
    "\n",
    "models = {\n",
    "    'gnb': {'name': 'Gaussian Naive Bayes       ',\n",
    "           'estimator': GaussianNB(), \n",
    "           'param': [{}],\n",
    "          },\n",
    "    'mnb': {'name': 'Multinomial Naive Bayes       ',\n",
    "           'estimator': MultinomialNB(),\n",
    "           'param': [{}]\n",
    "          },\n",
    "    'cnb': {'name': 'ComplementNB   ',\n",
    "           'estimator': ComplementNB(),\n",
    "           'param': [{}],\n",
    "          },\n",
    "    'bnb':{'name': 'BernoulliNB      ',\n",
    "           'estimator': BernoulliNB(), \n",
    "           'param': [{}]\n",
    "          },\n",
    "}\n",
    "\n",
    "scores = ['precision', 'recall','f1']"
   ]
  },
  {
   "cell_type": "code",
   "execution_count": 10,
   "id": "b23e6869",
   "metadata": {},
   "outputs": [],
   "source": [
    "def print_results(model):\n",
    "    print(\"Best parameters set found on train set:\")\n",
    "    print()\n",
    "    # if best is linear there is no gamma parameter\n",
    "    print(model.best_params_)\n",
    "    print()\n",
    "    print(\"Grid scores on train set:\")\n",
    "    print()\n",
    "    means = model.cv_results_['mean_test_score']\n",
    "    stds = model.cv_results_['std_test_score']\n",
    "    params = model.cv_results_['params']\n",
    "    print()\n",
    "    print(\"Detailed classification report for the best parameter set:\")\n",
    "    print()\n",
    "    print(\"The model is trained on the full train set.\")\n",
    "    print(\"The scores are computed on the full test set.\")\n",
    "    print()\n",
    "    true_y, pred_y = test_y, model.predict(test_x)\n",
    "    print(classification_report(true_y, pred_y))\n",
    "    print()"
   ]
  },
  {
   "cell_type": "code",
   "execution_count": 11,
   "id": "90422ed8",
   "metadata": {},
   "outputs": [],
   "source": [
    "\n",
    "def evaluate_models(models):\n",
    "    results_short = {}\n",
    "    for score in scores:\n",
    "        print('='*40)\n",
    "        print(\"# Tuning hyper-parameters for %s\" % score)\n",
    "        print()\n",
    "\n",
    "        for m in model_lbls:\n",
    "            print('-'*40)\n",
    "            print(\"Trying model {}\".format(models[m]['name']))\n",
    "            clf = GridSearchCV(models[m]['estimator'], models[m]['param'], cv=5,\n",
    "                               scoring='%s_macro' % score, \n",
    "                               return_train_score = False,\n",
    "                               n_jobs = 2, \n",
    "                               )\n",
    "            clf.fit(train_x, train_y)\n",
    "            print_results(clf)\n",
    "            results_short[m] = clf.best_score_\n",
    "        print(\"Summary of results for {}\".format(score))\n",
    "        print(\"Estimator\")\n",
    "        for m in results_short.keys():\n",
    "            print(\"{}\\t - score: {:4.2}%\".format(models[m]['name'], results_short[m]))"
   ]
  },
  {
   "cell_type": "code",
   "execution_count": 12,
   "id": "e0060c05",
   "metadata": {},
   "outputs": [
    {
     "name": "stdout",
     "output_type": "stream",
     "text": [
      "========================================\n",
      "# Tuning hyper-parameters for precision\n",
      "\n",
      "----------------------------------------\n",
      "Trying model Gaussian Naive Bayes       \n",
      "Best parameters set found on train set:\n",
      "\n",
      "{}\n",
      "\n",
      "Grid scores on train set:\n",
      "\n",
      "\n",
      "Detailed classification report for the best parameter set:\n",
      "\n",
      "The model is trained on the full train set.\n",
      "The scores are computed on the full test set.\n",
      "\n",
      "              precision    recall  f1-score   support\n",
      "\n",
      "           0       0.83      0.50      0.63      1000\n",
      "           1       0.99      0.83      0.90      1000\n",
      "           2       0.57      0.27      0.36      1000\n",
      "           3       0.43      0.95      0.60      1000\n",
      "           4       0.37      0.71      0.48      1000\n",
      "           5       0.92      0.27      0.41      1000\n",
      "           6       0.34      0.04      0.07      1000\n",
      "           7       0.50      0.99      0.66      1000\n",
      "           8       0.82      0.70      0.76      1000\n",
      "           9       0.91      0.65      0.76      1000\n",
      "\n",
      "    accuracy                           0.59     10000\n",
      "   macro avg       0.67      0.59      0.56     10000\n",
      "weighted avg       0.67      0.59      0.56     10000\n",
      "\n",
      "\n",
      "----------------------------------------\n",
      "Trying model Multinomial Naive Bayes       \n",
      "Best parameters set found on train set:\n",
      "\n",
      "{}\n",
      "\n",
      "Grid scores on train set:\n",
      "\n",
      "\n",
      "Detailed classification report for the best parameter set:\n",
      "\n",
      "The model is trained on the full train set.\n",
      "The scores are computed on the full test set.\n",
      "\n",
      "              precision    recall  f1-score   support\n",
      "\n",
      "           0       0.73      0.78      0.75      1000\n",
      "           1       0.99      0.87      0.93      1000\n",
      "           2       0.61      0.55      0.58      1000\n",
      "           3       0.65      0.88      0.75      1000\n",
      "           4       0.47      0.62      0.53      1000\n",
      "           5       0.63      0.13      0.22      1000\n",
      "           6       0.33      0.18      0.23      1000\n",
      "           7       0.60      0.91      0.72      1000\n",
      "           8       0.88      0.81      0.84      1000\n",
      "           9       0.68      0.84      0.75      1000\n",
      "\n",
      "    accuracy                           0.66     10000\n",
      "   macro avg       0.65      0.66      0.63     10000\n",
      "weighted avg       0.65      0.66      0.63     10000\n",
      "\n",
      "\n",
      "----------------------------------------\n",
      "Trying model ComplementNB   \n",
      "Best parameters set found on train set:\n",
      "\n",
      "{}\n",
      "\n",
      "Grid scores on train set:\n",
      "\n",
      "\n",
      "Detailed classification report for the best parameter set:\n",
      "\n",
      "The model is trained on the full train set.\n",
      "The scores are computed on the full test set.\n",
      "\n",
      "              precision    recall  f1-score   support\n",
      "\n",
      "           0       0.65      0.81      0.72      1000\n",
      "           1       0.78      0.95      0.86      1000\n",
      "           2       0.50      0.66      0.57      1000\n",
      "           3       0.60      0.75      0.66      1000\n",
      "           4       0.44      0.42      0.43      1000\n",
      "           5       0.00      0.00      0.00      1000\n",
      "           6       0.67      0.00      0.00      1000\n",
      "           7       0.62      0.83      0.71      1000\n",
      "           8       0.81      0.76      0.79      1000\n",
      "           9       0.55      0.96      0.70      1000\n",
      "\n",
      "    accuracy                           0.61     10000\n",
      "   macro avg       0.56      0.61      0.54     10000\n",
      "weighted avg       0.56      0.61      0.54     10000\n",
      "\n",
      "\n",
      "----------------------------------------\n",
      "Trying model BernoulliNB      \n",
      "Best parameters set found on train set:\n",
      "\n",
      "{}\n",
      "\n",
      "Grid scores on train set:\n",
      "\n",
      "\n",
      "Detailed classification report for the best parameter set:\n",
      "\n",
      "The model is trained on the full train set.\n",
      "The scores are computed on the full test set.\n",
      "\n",
      "              precision    recall  f1-score   support\n",
      "\n",
      "           0       0.72      0.75      0.74      1000\n",
      "           1       0.93      0.91      0.92      1000\n",
      "           2       0.52      0.66      0.58      1000\n",
      "           3       0.64      0.81      0.71      1000\n",
      "           4       0.49      0.50      0.49      1000\n",
      "           5       0.99      0.67      0.80      1000\n",
      "           6       0.51      0.20      0.29      1000\n",
      "           7       0.69      0.89      0.77      1000\n",
      "           8       0.85      0.83      0.84      1000\n",
      "           9       0.82      0.88      0.85      1000\n",
      "\n",
      "    accuracy                           0.71     10000\n",
      "   macro avg       0.71      0.71      0.70     10000\n",
      "weighted avg       0.71      0.71      0.70     10000\n",
      "\n",
      "\n",
      "Summary of results for precision\n",
      "Estimator\n",
      "Gaussian Naive Bayes       \t - score: 0.64%\n",
      "Multinomial Naive Bayes       \t - score: 0.66%\n",
      "ComplementNB   \t - score: 0.54%\n",
      "BernoulliNB      \t - score: 0.73%\n",
      "========================================\n",
      "# Tuning hyper-parameters for recall\n",
      "\n",
      "----------------------------------------\n",
      "Trying model Gaussian Naive Bayes       \n",
      "Best parameters set found on train set:\n",
      "\n",
      "{}\n",
      "\n",
      "Grid scores on train set:\n",
      "\n",
      "\n",
      "Detailed classification report for the best parameter set:\n",
      "\n",
      "The model is trained on the full train set.\n",
      "The scores are computed on the full test set.\n",
      "\n",
      "              precision    recall  f1-score   support\n",
      "\n",
      "           0       0.83      0.50      0.63      1000\n",
      "           1       0.99      0.83      0.90      1000\n",
      "           2       0.57      0.27      0.36      1000\n",
      "           3       0.43      0.95      0.60      1000\n",
      "           4       0.37      0.71      0.48      1000\n",
      "           5       0.92      0.27      0.41      1000\n",
      "           6       0.34      0.04      0.07      1000\n",
      "           7       0.50      0.99      0.66      1000\n",
      "           8       0.82      0.70      0.76      1000\n",
      "           9       0.91      0.65      0.76      1000\n",
      "\n",
      "    accuracy                           0.59     10000\n",
      "   macro avg       0.67      0.59      0.56     10000\n",
      "weighted avg       0.67      0.59      0.56     10000\n",
      "\n",
      "\n",
      "----------------------------------------\n",
      "Trying model Multinomial Naive Bayes       \n",
      "Best parameters set found on train set:\n",
      "\n",
      "{}\n",
      "\n",
      "Grid scores on train set:\n",
      "\n",
      "\n",
      "Detailed classification report for the best parameter set:\n",
      "\n",
      "The model is trained on the full train set.\n",
      "The scores are computed on the full test set.\n",
      "\n",
      "              precision    recall  f1-score   support\n",
      "\n",
      "           0       0.73      0.78      0.75      1000\n",
      "           1       0.99      0.87      0.93      1000\n",
      "           2       0.61      0.55      0.58      1000\n",
      "           3       0.65      0.88      0.75      1000\n",
      "           4       0.47      0.62      0.53      1000\n",
      "           5       0.63      0.13      0.22      1000\n",
      "           6       0.33      0.18      0.23      1000\n",
      "           7       0.60      0.91      0.72      1000\n",
      "           8       0.88      0.81      0.84      1000\n",
      "           9       0.68      0.84      0.75      1000\n",
      "\n",
      "    accuracy                           0.66     10000\n",
      "   macro avg       0.65      0.66      0.63     10000\n",
      "weighted avg       0.65      0.66      0.63     10000\n",
      "\n",
      "\n",
      "----------------------------------------\n",
      "Trying model ComplementNB   \n",
      "Best parameters set found on train set:\n",
      "\n",
      "{}\n",
      "\n",
      "Grid scores on train set:\n",
      "\n",
      "\n",
      "Detailed classification report for the best parameter set:\n",
      "\n",
      "The model is trained on the full train set.\n",
      "The scores are computed on the full test set.\n",
      "\n",
      "              precision    recall  f1-score   support\n",
      "\n",
      "           0       0.65      0.81      0.72      1000\n",
      "           1       0.78      0.95      0.86      1000\n",
      "           2       0.50      0.66      0.57      1000\n",
      "           3       0.60      0.75      0.66      1000\n",
      "           4       0.44      0.42      0.43      1000\n",
      "           5       0.00      0.00      0.00      1000\n",
      "           6       0.67      0.00      0.00      1000\n",
      "           7       0.62      0.83      0.71      1000\n",
      "           8       0.81      0.76      0.79      1000\n",
      "           9       0.55      0.96      0.70      1000\n",
      "\n",
      "    accuracy                           0.61     10000\n",
      "   macro avg       0.56      0.61      0.54     10000\n",
      "weighted avg       0.56      0.61      0.54     10000\n",
      "\n",
      "\n",
      "----------------------------------------\n",
      "Trying model BernoulliNB      \n",
      "Best parameters set found on train set:\n",
      "\n",
      "{}\n",
      "\n",
      "Grid scores on train set:\n",
      "\n",
      "\n",
      "Detailed classification report for the best parameter set:\n",
      "\n",
      "The model is trained on the full train set.\n",
      "The scores are computed on the full test set.\n",
      "\n",
      "              precision    recall  f1-score   support\n",
      "\n",
      "           0       0.72      0.75      0.74      1000\n",
      "           1       0.93      0.91      0.92      1000\n",
      "           2       0.52      0.66      0.58      1000\n",
      "           3       0.64      0.81      0.71      1000\n",
      "           4       0.49      0.50      0.49      1000\n",
      "           5       0.99      0.67      0.80      1000\n",
      "           6       0.51      0.20      0.29      1000\n",
      "           7       0.69      0.89      0.77      1000\n",
      "           8       0.85      0.83      0.84      1000\n",
      "           9       0.82      0.88      0.85      1000\n",
      "\n",
      "    accuracy                           0.71     10000\n",
      "   macro avg       0.71      0.71      0.70     10000\n",
      "weighted avg       0.71      0.71      0.70     10000\n",
      "\n",
      "\n",
      "Summary of results for recall\n",
      "Estimator\n",
      "Gaussian Naive Bayes       \t - score: 0.56%\n",
      "Multinomial Naive Bayes       \t - score: 0.67%\n",
      "ComplementNB   \t - score: 0.62%\n",
      "BernoulliNB      \t - score: 0.72%\n",
      "========================================\n",
      "# Tuning hyper-parameters for f1\n",
      "\n",
      "----------------------------------------\n",
      "Trying model Gaussian Naive Bayes       \n"
     ]
    },
    {
     "name": "stdout",
     "output_type": "stream",
     "text": [
      "Best parameters set found on train set:\n",
      "\n",
      "{}\n",
      "\n",
      "Grid scores on train set:\n",
      "\n",
      "\n",
      "Detailed classification report for the best parameter set:\n",
      "\n",
      "The model is trained on the full train set.\n",
      "The scores are computed on the full test set.\n",
      "\n",
      "              precision    recall  f1-score   support\n",
      "\n",
      "           0       0.83      0.50      0.63      1000\n",
      "           1       0.99      0.83      0.90      1000\n",
      "           2       0.57      0.27      0.36      1000\n",
      "           3       0.43      0.95      0.60      1000\n",
      "           4       0.37      0.71      0.48      1000\n",
      "           5       0.92      0.27      0.41      1000\n",
      "           6       0.34      0.04      0.07      1000\n",
      "           7       0.50      0.99      0.66      1000\n",
      "           8       0.82      0.70      0.76      1000\n",
      "           9       0.91      0.65      0.76      1000\n",
      "\n",
      "    accuracy                           0.59     10000\n",
      "   macro avg       0.67      0.59      0.56     10000\n",
      "weighted avg       0.67      0.59      0.56     10000\n",
      "\n",
      "\n",
      "----------------------------------------\n",
      "Trying model Multinomial Naive Bayes       \n",
      "Best parameters set found on train set:\n",
      "\n",
      "{}\n",
      "\n",
      "Grid scores on train set:\n",
      "\n",
      "\n",
      "Detailed classification report for the best parameter set:\n",
      "\n",
      "The model is trained on the full train set.\n",
      "The scores are computed on the full test set.\n",
      "\n",
      "              precision    recall  f1-score   support\n",
      "\n",
      "           0       0.73      0.78      0.75      1000\n",
      "           1       0.99      0.87      0.93      1000\n",
      "           2       0.61      0.55      0.58      1000\n",
      "           3       0.65      0.88      0.75      1000\n",
      "           4       0.47      0.62      0.53      1000\n",
      "           5       0.63      0.13      0.22      1000\n",
      "           6       0.33      0.18      0.23      1000\n",
      "           7       0.60      0.91      0.72      1000\n",
      "           8       0.88      0.81      0.84      1000\n",
      "           9       0.68      0.84      0.75      1000\n",
      "\n",
      "    accuracy                           0.66     10000\n",
      "   macro avg       0.65      0.66      0.63     10000\n",
      "weighted avg       0.65      0.66      0.63     10000\n",
      "\n",
      "\n",
      "----------------------------------------\n",
      "Trying model ComplementNB   \n",
      "Best parameters set found on train set:\n",
      "\n",
      "{}\n",
      "\n",
      "Grid scores on train set:\n",
      "\n",
      "\n",
      "Detailed classification report for the best parameter set:\n",
      "\n",
      "The model is trained on the full train set.\n",
      "The scores are computed on the full test set.\n",
      "\n",
      "              precision    recall  f1-score   support\n",
      "\n",
      "           0       0.65      0.81      0.72      1000\n",
      "           1       0.78      0.95      0.86      1000\n",
      "           2       0.50      0.66      0.57      1000\n",
      "           3       0.60      0.75      0.66      1000\n",
      "           4       0.44      0.42      0.43      1000\n",
      "           5       0.00      0.00      0.00      1000\n",
      "           6       0.67      0.00      0.00      1000\n",
      "           7       0.62      0.83      0.71      1000\n",
      "           8       0.81      0.76      0.79      1000\n",
      "           9       0.55      0.96      0.70      1000\n",
      "\n",
      "    accuracy                           0.61     10000\n",
      "   macro avg       0.56      0.61      0.54     10000\n",
      "weighted avg       0.56      0.61      0.54     10000\n",
      "\n",
      "\n",
      "----------------------------------------\n",
      "Trying model BernoulliNB      \n",
      "Best parameters set found on train set:\n",
      "\n",
      "{}\n",
      "\n",
      "Grid scores on train set:\n",
      "\n",
      "\n",
      "Detailed classification report for the best parameter set:\n",
      "\n",
      "The model is trained on the full train set.\n",
      "The scores are computed on the full test set.\n",
      "\n",
      "              precision    recall  f1-score   support\n",
      "\n",
      "           0       0.72      0.75      0.74      1000\n",
      "           1       0.93      0.91      0.92      1000\n",
      "           2       0.52      0.66      0.58      1000\n",
      "           3       0.64      0.81      0.71      1000\n",
      "           4       0.49      0.50      0.49      1000\n",
      "           5       0.99      0.67      0.80      1000\n",
      "           6       0.51      0.20      0.29      1000\n",
      "           7       0.69      0.89      0.77      1000\n",
      "           8       0.85      0.83      0.84      1000\n",
      "           9       0.82      0.88      0.85      1000\n",
      "\n",
      "    accuracy                           0.71     10000\n",
      "   macro avg       0.71      0.71      0.70     10000\n",
      "weighted avg       0.71      0.71      0.70     10000\n",
      "\n",
      "\n",
      "Summary of results for f1\n",
      "Estimator\n",
      "Gaussian Naive Bayes       \t - score: 0.54%\n",
      "Multinomial Naive Bayes       \t - score: 0.64%\n",
      "ComplementNB   \t - score: 0.55%\n",
      "BernoulliNB      \t - score: 0.71%\n"
     ]
    }
   ],
   "source": [
    "evaluate_models(models)"
   ]
  },
  {
   "cell_type": "markdown",
   "id": "7972c87d",
   "metadata": {},
   "source": [
    "As we can see the Multinomial Naive Bayes and the Bernoulli Naive Bayes outperform the other two classifiers.\n",
    "That's why we will take a closer look at these two and try to pick the best parameters."
   ]
  },
  {
   "cell_type": "code",
   "execution_count": 13,
   "id": "ca21fd53",
   "metadata": {},
   "outputs": [],
   "source": [
    "models = {\n",
    "    'mnb': {'name': 'Multinomial Naive Bayes       ',\n",
    "           'estimator': MultinomialNB(),\n",
    "           'param': [{'alpha': [0,0.1,0.3,0.5,0.75,1,2,3,4,10,20,30,50,100],}]\n",
    "          },\n",
    "    'bnb':{'name': 'BernoulliNB      ',\n",
    "           'estimator': BernoulliNB(), \n",
    "           'param': [{'alpha': [0,0.1,0.3,0.5,0.75,1,2,3,4,10,20,30,50,100],\n",
    "\n",
    "'binarize' :[ None,0,0.1,0.3,0.5,0.75,1,2,3,4,10,20,30,50,100],\n",
    "}]\n",
    "          },\n",
    "}\n",
    "\n",
    "model_lbls = ['mnb','bnb']\n",
    "scores = ['f1']"
   ]
  },
  {
   "cell_type": "code",
   "execution_count": 14,
   "id": "54356ad7",
   "metadata": {},
   "outputs": [
    {
     "name": "stdout",
     "output_type": "stream",
     "text": [
      "========================================\n",
      "# Tuning hyper-parameters for f1\n",
      "\n",
      "----------------------------------------\n",
      "Trying model Multinomial Naive Bayes       \n",
      "Best parameters set found on train set:\n",
      "\n",
      "{'alpha': 0.1}\n",
      "\n",
      "Grid scores on train set:\n",
      "\n",
      "\n",
      "Detailed classification report for the best parameter set:\n",
      "\n",
      "The model is trained on the full train set.\n",
      "The scores are computed on the full test set.\n",
      "\n",
      "              precision    recall  f1-score   support\n",
      "\n",
      "           0       0.73      0.78      0.75      1000\n",
      "           1       0.99      0.87      0.93      1000\n",
      "           2       0.61      0.55      0.58      1000\n",
      "           3       0.65      0.88      0.75      1000\n",
      "           4       0.47      0.62      0.53      1000\n",
      "           5       0.63      0.14      0.22      1000\n",
      "           6       0.33      0.18      0.24      1000\n",
      "           7       0.60      0.91      0.72      1000\n",
      "           8       0.88      0.81      0.84      1000\n",
      "           9       0.68      0.84      0.75      1000\n",
      "\n",
      "    accuracy                           0.66     10000\n",
      "   macro avg       0.65      0.66      0.63     10000\n",
      "weighted avg       0.65      0.66      0.63     10000\n",
      "\n",
      "\n",
      "----------------------------------------\n",
      "Trying model BernoulliNB      \n",
      "Best parameters set found on train set:\n",
      "\n",
      "{'alpha': 0, 'binarize': 0.1}\n",
      "\n",
      "Grid scores on train set:\n",
      "\n",
      "\n",
      "Detailed classification report for the best parameter set:\n",
      "\n",
      "The model is trained on the full train set.\n",
      "The scores are computed on the full test set.\n",
      "\n",
      "              precision    recall  f1-score   support\n",
      "\n",
      "           0       0.69      0.76      0.72      1000\n",
      "           1       0.96      0.90      0.93      1000\n",
      "           2       0.55      0.65      0.60      1000\n",
      "           3       0.68      0.83      0.75      1000\n",
      "           4       0.50      0.53      0.51      1000\n",
      "           5       0.94      0.72      0.81      1000\n",
      "           6       0.39      0.18      0.25      1000\n",
      "           7       0.74      0.90      0.81      1000\n",
      "           8       0.88      0.89      0.88      1000\n",
      "           9       0.86      0.90      0.88      1000\n",
      "\n",
      "    accuracy                           0.72     10000\n",
      "   macro avg       0.72      0.72      0.71     10000\n",
      "weighted avg       0.72      0.72      0.71     10000\n",
      "\n",
      "\n",
      "Summary of results for f1\n",
      "Estimator\n",
      "Multinomial Naive Bayes       \t - score: 0.64%\n",
      "BernoulliNB      \t - score: 0.72%\n"
     ]
    }
   ],
   "source": [
    "evaluate_models(models)"
   ]
  },
  {
   "cell_type": "markdown",
   "id": "3dcec35f",
   "metadata": {},
   "source": [
    "### Tuning the best models\n",
    "\n",
    "We will try to make a better decision abot our parameters."
   ]
  },
  {
   "cell_type": "code",
   "execution_count": 16,
   "id": "a01490ae",
   "metadata": {},
   "outputs": [],
   "source": [
    "def plot_scores_by_parameter(model,ks,X_train,X_test,y_train,y_test,visualize=True):\n",
    "    train_scores = []\n",
    "    test_scores = []\n",
    "    \n",
    "    for k in ks:\n",
    "        clf = model(k).fit(X_train, y_train)\n",
    "        train_score = clf.score(X_train, y_train)\n",
    "        test_score = clf.score(X_test, y_test)\n",
    "        \n",
    "        train_scores.append(train_score)\n",
    "        test_scores.append(test_score)\n",
    "    if visualize:\n",
    "        plt.figure(figsize=(10, 6))\n",
    "        plt.plot(ks, train_scores, color='blue', label='train score')\n",
    "        plt.plot(ks, test_scores, color='green', label='test score')\n",
    "        plt.legend()\n",
    "    return train_scores,test_scores"
   ]
  },
  {
   "cell_type": "code",
   "execution_count": 17,
   "id": "5fc4fb03",
   "metadata": {},
   "outputs": [],
   "source": [
    "X_train, X_valid, y_train, y_valid = train_test_split(train_x, train_y, random_state=0)"
   ]
  },
  {
   "cell_type": "markdown",
   "id": "3f4c7718",
   "metadata": {},
   "source": [
    "#### Multinomial Naive Bayes"
   ]
  },
  {
   "cell_type": "code",
   "execution_count": 18,
   "id": "5d1932db",
   "metadata": {},
   "outputs": [],
   "source": [
    "mnb_constructor = lambda a: MultinomialNB(alpha=a)"
   ]
  },
  {
   "cell_type": "code",
   "execution_count": 19,
   "id": "3745fb03",
   "metadata": {},
   "outputs": [
    {
     "data": {
      "image/png": "[encoded data removed]",
      "text/plain": [
       "<Figure size 720x432 with 1 Axes>"
      ]
     },
     "metadata": {
      "needs_background": "light"
     },
     "output_type": "display_data"
    }
   ],
   "source": [
    "_=plot_scores_by_parameter(mnb_constructor,[0,0.1,0.3,0.5,0.75,1,2,3,4,10,20,30,50,100],X_train,X_valid,y_train,y_valid)"
   ]
  },
  {
   "cell_type": "markdown",
   "id": "3fb15f49",
   "metadata": {},
   "source": [
    "The best results are between 0 and 1. So we will try the experiment again with smaller numbers."
   ]
  },
  {
   "cell_type": "code",
   "execution_count": 20,
   "id": "c6ef8b9c",
   "metadata": {},
   "outputs": [
    {
     "data": {
      "image/png": "[encoded data removed]",
      "text/plain": [
       "<Figure size 720x432 with 1 Axes>"
      ]
     },
     "metadata": {
      "needs_background": "light"
     },
     "output_type": "display_data"
    }
   ],
   "source": [
    "_=plot_scores_by_parameter(mnb_constructor,np.arange(0,2,0.05),X_train,X_valid,y_train,y_valid)"
   ]
  },
  {
   "cell_type": "code",
   "execution_count": 22,
   "id": "683a6ddc",
   "metadata": {},
   "outputs": [
    {
     "data": {
      "image/png": "[encoded data removed]",
      "text/plain": [
       "<Figure size 720x432 with 1 Axes>"
      ]
     },
     "metadata": {
      "needs_background": "light"
     },
     "output_type": "display_data"
    }
   ],
   "source": [
    "_=plot_scores_by_parameter(mnb_constructor,np.arange(0,0.2,0.001),X_train,X_valid,y_train,y_valid)"
   ]
  },
  {
   "cell_type": "markdown",
   "id": "b8d7f61b",
   "metadata": {},
   "source": [
    "The best value for alpha is 0."
   ]
  },
  {
   "cell_type": "markdown",
   "id": "625f96eb",
   "metadata": {},
   "source": [
    "#### Bernoulli Naive Bayes"
   ]
  },
  {
   "cell_type": "markdown",
   "id": "0836eada",
   "metadata": {},
   "source": [
    "Now we will do the same for BernoulliNB. From the previous experiments with the parameters we now that alpha must be around 0 and binarize around 0.1."
   ]
  },
  {
   "cell_type": "code",
   "execution_count": 25,
   "id": "a91e1027",
   "metadata": {},
   "outputs": [],
   "source": [
    "bnb_by_alpha_constructor = lambda a: BernoulliNB(alpha=a,binarize=0.1)\n",
    "bnb_by_binarize_constructor = lambda b: BernoulliNB(alpha=0,binarize=b)\n",
    "bnb_constructor = lambda l: BernoulliNB(alpha=l[0],binarize=l[1])"
   ]
  },
  {
   "cell_type": "code",
   "execution_count": 26,
   "id": "0bc4f271",
   "metadata": {},
   "outputs": [
    {
     "data": {
      "image/png": "[encoded data removed]",
      "text/plain": [
       "<Figure size 720x432 with 1 Axes>"
      ]
     },
     "metadata": {
      "needs_background": "light"
     },
     "output_type": "display_data"
    }
   ],
   "source": [
    "_=plot_scores_by_parameter(bnb_by_alpha_constructor,np.arange(0,2,0.05),X_train,X_valid,y_train,y_valid)"
   ]
  },
  {
   "cell_type": "markdown",
   "id": "303bb6cd",
   "metadata": {},
   "source": [
    "As we can see the best value for alpha is 0."
   ]
  },
  {
   "cell_type": "code",
   "execution_count": 27,
   "id": "43b20c33",
   "metadata": {},
   "outputs": [
    {
     "data": {
      "image/png": "[encoded data removed]",
      "text/plain": [
       "<Figure size 720x432 with 1 Axes>"
      ]
     },
     "metadata": {
      "needs_background": "light"
     },
     "output_type": "display_data"
    }
   ],
   "source": [
    "_=plot_scores_by_parameter(bnb_by_binarize_constructor,np.arange(0,2,0.05),X_train,X_valid,y_train,y_valid)"
   ]
  },
  {
   "cell_type": "code",
   "execution_count": 28,
   "id": "8c6a0e3b",
   "metadata": {},
   "outputs": [
    {
     "data": {
      "image/png": "[encoded data removed]",
      "text/plain": [
       "<Figure size 720x432 with 1 Axes>"
      ]
     },
     "metadata": {
      "needs_background": "light"
     },
     "output_type": "display_data"
    }
   ],
   "source": [
    "_=plot_scores_by_parameter(bnb_by_binarize_constructor,np.arange(0,0.9,0.1),X_train,X_valid,y_train,y_valid)"
   ]
  },
  {
   "cell_type": "code",
   "execution_count": 34,
   "id": "b65e0be0",
   "metadata": {},
   "outputs": [
    {
     "data": {
      "text/plain": [
       "([0.7292222222222222,\n",
       "  0.742,\n",
       "  0.737,\n",
       "  0.7341111111111112,\n",
       "  0.7321111111111112,\n",
       "  0.7282222222222222,\n",
       "  0.7191111111111111,\n",
       "  0.7095555555555556,\n",
       "  0.6955555555555556,\n",
       "  0.6854444444444444,\n",
       "  0.6685555555555556,\n",
       "  0.6492222222222223],\n",
       " [0.7353333333333333,\n",
       "  0.7466666666666667,\n",
       "  0.739,\n",
       "  0.7346666666666667,\n",
       "  0.734,\n",
       "  0.7263333333333334,\n",
       "  0.7123333333333334,\n",
       "  0.698,\n",
       "  0.6833333333333333,\n",
       "  0.6736666666666666,\n",
       "  0.661,\n",
       "  0.643])"
      ]
     },
     "execution_count": 34,
     "metadata": {},
     "output_type": "execute_result"
    },
    {
     "data": {
      "image/png": "[encoded data removed]",
      "text/plain": [
       "<Figure size 720x432 with 1 Axes>"
      ]
     },
     "metadata": {
      "needs_background": "light"
     },
     "output_type": "display_data"
    }
   ],
   "source": [
    "plot_scores_by_parameter(bnb_by_binarize_constructor,np.arange(0,0.6,0.05),X_train,X_valid,y_train,y_valid)"
   ]
  },
  {
   "cell_type": "markdown",
   "id": "606e588e",
   "metadata": {},
   "source": [
    "The best value for binarize is around 0.05.\n",
    "Now we will try the model with values for alpha and binarize which are close to the already found ones."
   ]
  },
  {
   "cell_type": "code",
   "execution_count": 37,
   "id": "c430324e",
   "metadata": {},
   "outputs": [],
   "source": [
    "values=[(0,0.05),(0,0.1),(0,0.2),(0,0.3),(0,0.4),(0,0.5),(0,0.6),(0.1,0.05),(0.1,0.1),(0.1,0.2),(0.1,0.3),(0.1,0.4),(0.1,0.5),(0.1,0.6)]\n",
    "train_scores,test_scores = plot_scores_by_parameter(bnb_constructor,values,X_train,X_valid,y_train,y_valid,visualize=False)"
   ]
  },
  {
   "cell_type": "code",
   "execution_count": 38,
   "id": "53e4cc13",
   "metadata": {},
   "outputs": [
    {
     "name": "stdout",
     "output_type": "stream",
     "text": [
      "alpha=0 binarize=0.05, train score: 0.742, test_score: 0.7466666666666667\n",
      "alpha=0 binarize=0.1, train score: 0.737, test_score: 0.739\n",
      "alpha=0 binarize=0.2, train score: 0.7321111111111112, test_score: 0.734\n",
      "alpha=0 binarize=0.3, train score: 0.7191111111111111, test_score: 0.7123333333333334\n",
      "alpha=0 binarize=0.4, train score: 0.6955555555555556, test_score: 0.6833333333333333\n",
      "alpha=0 binarize=0.5, train score: 0.6685555555555556, test_score: 0.661\n",
      "alpha=0 binarize=0.6, train score: 0.6264444444444445, test_score: 0.6266666666666667\n",
      "alpha=0.1 binarize=0.05, train score: 0.7413333333333333, test_score: 0.746\n",
      "alpha=0.1 binarize=0.1, train score: 0.7357777777777778, test_score: 0.739\n",
      "alpha=0.1 binarize=0.2, train score: 0.7293333333333333, test_score: 0.731\n",
      "alpha=0.1 binarize=0.3, train score: 0.714, test_score: 0.7053333333333334\n",
      "alpha=0.1 binarize=0.4, train score: 0.6868888888888889, test_score: 0.6776666666666666\n",
      "alpha=0.1 binarize=0.5, train score: 0.6575555555555556, test_score: 0.6473333333333333\n",
      "alpha=0.1 binarize=0.6, train score: 0.6128888888888889, test_score: 0.6093333333333333\n"
     ]
    }
   ],
   "source": [
    "for value,train_score,test_score in zip(values,train_scores,test_scores):\n",
    "    print(f'alpha={value[0]} binarize={value[1]}, train score: {train_score}, test_score: {test_score}')"
   ]
  },
  {
   "cell_type": "markdown",
   "id": "9672dca5",
   "metadata": {},
   "source": [
    "This experiment confirms our previoues results. The best values are alpha=0, binarize=0.05"
   ]
  },
  {
   "cell_type": "markdown",
   "id": "746a8290",
   "metadata": {},
   "source": [
    "### Final tests\n",
    "Let's test our tuned models on the test data."
   ]
  },
  {
   "cell_type": "code",
   "execution_count": 45,
   "id": "26a59146",
   "metadata": {},
   "outputs": [
    {
     "name": "stdout",
     "output_type": "stream",
     "text": [
      "BernoulliNB F1 score = 72.8\n",
      "MultinomialNB F1 score = 65.85\n",
      "BernoulliNB Classification Report \n",
      "               precision    recall  f1-score   support\n",
      "\n",
      "           0       0.70      0.77      0.73      1000\n",
      "           1       0.96      0.90      0.93      1000\n",
      "           2       0.54      0.65      0.59      1000\n",
      "           3       0.68      0.83      0.75      1000\n",
      "           4       0.50      0.51      0.50      1000\n",
      "           5       0.97      0.73      0.83      1000\n",
      "           6       0.41      0.20      0.26      1000\n",
      "           7       0.74      0.90      0.81      1000\n",
      "           8       0.89      0.89      0.89      1000\n",
      "           9       0.85      0.89      0.87      1000\n",
      "\n",
      "    accuracy                           0.73     10000\n",
      "   macro avg       0.72      0.73      0.72     10000\n",
      "weighted avg       0.72      0.73      0.72     10000\n",
      "\n",
      "MultinomialNB Classification Report \n",
      "               precision    recall  f1-score   support\n",
      "\n",
      "           0       0.73      0.78      0.75      1000\n",
      "           1       0.99      0.87      0.93      1000\n",
      "           2       0.61      0.55      0.58      1000\n",
      "           3       0.65      0.88      0.75      1000\n",
      "           4       0.47      0.62      0.53      1000\n",
      "           5       0.63      0.14      0.22      1000\n",
      "           6       0.33      0.18      0.24      1000\n",
      "           7       0.60      0.91      0.72      1000\n",
      "           8       0.88      0.82      0.84      1000\n",
      "           9       0.68      0.84      0.75      1000\n",
      "\n",
      "    accuracy                           0.66     10000\n",
      "   macro avg       0.65      0.66      0.63     10000\n",
      "weighted avg       0.65      0.66      0.63     10000\n",
      "\n"
     ]
    }
   ],
   "source": [
    "bnb = BernoulliNB(alpha=0, binarize=0.05)\n",
    "mnb= MultinomialNB(alpha=0.025)\n",
    "\n",
    "bnb.fit(train_x,train_y)\n",
    "mnb.fit(train_x,train_y)\n",
    "\n",
    "bnb_pred = bnb.predict(test_x)\n",
    "mnb_pred = mnb.predict(test_x)\n",
    "\n",
    "print (f'BernoulliNB F1 score = {f1_score(test_y, bnb_pred,average=\"micro\")*100}')\n",
    "print (f'MultinomialNB F1 score = {f1_score(test_y, mnb_pred,average=\"micro\")*100}')\n",
    "\n",
    "print (f'BernoulliNB Classification Report \\n {classification_report(test_y, bnb_pred, labels=range(0,10))}')\n",
    "print (f'MultinomialNB Classification Report \\n {classification_report(test_y, mnb_pred, labels=range(0,10))}')"
   ]
  },
  {
   "cell_type": "markdown",
   "id": "dd52a96f",
   "metadata": {},
   "source": [
    "BernoulliNB is the best classifier for this dataset. Let's try to improve the score with an ensemble model."
   ]
  },
  {
   "cell_type": "code",
   "execution_count": 54,
   "id": "cb16ec50",
   "metadata": {},
   "outputs": [
    {
     "data": {
      "text/plain": [
       "GradientBoostingClassifier(n_estimators=20)"
      ]
     },
     "execution_count": 54,
     "metadata": {},
     "output_type": "execute_result"
    }
   ],
   "source": [
    "bnb = BernoulliNB(alpha=0, binarize=0.05)\n",
    "\n",
    "ada_boost = AdaBoostClassifier(bnb,n_estimators=20)\n",
    "gr_boost = GradientBoostingClassifier(n_estimators=20)\n",
    "\n",
    "ada_boost.fit(train_x,train_y)\n",
    "gr_boost.fit(train_x,train_y)"
   ]
  },
  {
   "cell_type": "code",
   "execution_count": 55,
   "id": "518d3607",
   "metadata": {},
   "outputs": [],
   "source": [
    "ada_pred = ada_boost.predict(test_x)\n",
    "gr_pred = gr_boost.predict(test_x)"
   ]
  },
  {
   "cell_type": "code",
   "execution_count": 56,
   "id": "ac5b121b",
   "metadata": {},
   "outputs": [
    {
     "name": "stdout",
     "output_type": "stream",
     "text": [
      "Ada Boost with BernoulliNB Classification Report \n",
      "               precision    recall  f1-score   support\n",
      "\n",
      "           0       0.72      0.04      0.07      1000\n",
      "           1       0.79      0.73      0.76      1000\n",
      "           2       0.37      0.62      0.46      1000\n",
      "           3       0.41      0.79      0.54      1000\n",
      "           4       0.34      0.43      0.38      1000\n",
      "           5       0.82      0.75      0.78      1000\n",
      "           6       0.14      0.00      0.00      1000\n",
      "           7       0.88      0.04      0.07      1000\n",
      "           8       0.30      0.97      0.46      1000\n",
      "           9       0.00      0.00      0.00      1000\n",
      "\n",
      "    accuracy                           0.44     10000\n",
      "   macro avg       0.48      0.44      0.35     10000\n",
      "weighted avg       0.48      0.44      0.35     10000\n",
      "\n",
      "Gradient Boosting Classification Report \n",
      "               precision    recall  f1-score   support\n",
      "\n",
      "           0       0.80      0.75      0.78      1000\n",
      "           1       0.99      0.90      0.94      1000\n",
      "           2       0.69      0.70      0.70      1000\n",
      "           3       0.73      0.87      0.79      1000\n",
      "           4       0.69      0.71      0.70      1000\n",
      "           5       0.96      0.88      0.92      1000\n",
      "           6       0.59      0.53      0.56      1000\n",
      "           7       0.87      0.92      0.89      1000\n",
      "           8       0.93      0.93      0.93      1000\n",
      "           9       0.89      0.93      0.91      1000\n",
      "\n",
      "    accuracy                           0.81     10000\n",
      "   macro avg       0.81      0.81      0.81     10000\n",
      "weighted avg       0.81      0.81      0.81     10000\n",
      "\n"
     ]
    }
   ],
   "source": [
    "print (f'Ada Boost with BernoulliNB Classification Report \\n {classification_report(test_y, ada_pred, labels=range(0,10))}')\n",
    "print (f'Gradient Boosting Classification Report \\n {classification_report(test_y, gr_pred, labels=range(0,10))}')"
   ]
  },
  {
   "cell_type": "code",
   "execution_count": 57,
   "id": "4dc3a5cc",
   "metadata": {},
   "outputs": [
    {
     "name": "stdout",
     "output_type": "stream",
     "text": [
      "Ada Boost with BernoulliNB F1 score = 43.61\n",
      "Gradient Boosting F1 score = 81.15999999999998\n"
     ]
    }
   ],
   "source": [
    "print (f'Ada Boost with BernoulliNB F1 score = {f1_score(test_y, ada_pred,average=\"micro\")*100}')\n",
    "print (f'Gradient Boosting F1 score = {f1_score(test_y, gr_pred,average=\"micro\")*100}')"
   ]
  },
  {
   "cell_type": "markdown",
   "id": "e4bbaa37",
   "metadata": {},
   "source": [
    "Ada Boost does not improve the score of the BernoulliNB."
   ]
  }
 ],
 "metadata": {
  "kernelspec": {
   "display_name": "mnist_venv",
   "language": "python",
   "name": "mnist_venv"
  },
  "language_info": {
   "codemirror_mode": {
    "name": "ipython",
    "version": 3
   },
   "file_extension": ".py",
   "mimetype": "text/x-python",
   "name": "python",
   "nbconvert_exporter": "python",
   "pygments_lexer": "ipython3",
   "version": "3.6.13"
  },
  "vscode": {
   "interpreter": {
    "hash": "81794d4967e6c3204c66dcd87b604927b115b27c00565d3d43f05ba2f3a2cb0d"
   }
  }
 },
 "nbformat": 4,
 "nbformat_minor": 5
}

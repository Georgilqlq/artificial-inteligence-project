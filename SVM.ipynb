{
 "cells": [
  {
   "cell_type": "code",
   "execution_count": 2,
   "id": "5c3303ed",
   "metadata": {},
   "outputs": [
    {
     "name": "stdout",
     "output_type": "stream",
     "text": [
      "Requirement already satisfied: torch in c:\\anaconda\\lib\\site-packages (1.13.1)\n",
      "Requirement already satisfied: typing-extensions in c:\\anaconda\\lib\\site-packages (from torch) (4.3.0)\n",
      "Requirement already satisfied: torchvision in c:\\anaconda\\lib\\site-packages (0.14.1)\n",
      "Requirement already satisfied: torch==1.13.1 in c:\\anaconda\\lib\\site-packages (from torchvision) (1.13.1)\n",
      "Requirement already satisfied: typing-extensions in c:\\anaconda\\lib\\site-packages (from torchvision) (4.3.0)\n",
      "Requirement already satisfied: numpy in c:\\anaconda\\lib\\site-packages (from torchvision) (1.21.5)\n",
      "Requirement already satisfied: pillow!=8.3.*,>=5.3.0 in c:\\anaconda\\lib\\site-packages (from torchvision) (9.2.0)\n",
      "Requirement already satisfied: requests in c:\\anaconda\\lib\\site-packages (from torchvision) (2.28.1)\n",
      "Requirement already satisfied: urllib3<1.27,>=1.21.1 in c:\\anaconda\\lib\\site-packages (from requests->torchvision) (1.26.11)\n",
      "Requirement already satisfied: certifi>=2017.4.17 in c:\\anaconda\\lib\\site-packages (from requests->torchvision) (2022.9.14)\n",
      "Requirement already satisfied: charset-normalizer<3,>=2 in c:\\anaconda\\lib\\site-packages (from requests->torchvision) (2.0.4)\n",
      "Requirement already satisfied: idna<4,>=2.5 in c:\\anaconda\\lib\\site-packages (from requests->torchvision) (3.3)\n"
     ]
    }
   ],
   "source": [
    "!pip install torch\n",
    "!pip install torchvision"
   ]
  },
  {
   "cell_type": "code",
   "execution_count": 2,
   "id": "74d8491f",
   "metadata": {},
   "outputs": [],
   "source": [
    "import torch\n",
    "import torchvision\n",
    "from torchvision import transforms\n",
    "import numpy as np\n",
    "import warnings\n",
    "warnings.filterwarnings('ignore')\n",
    "from sklearn.metrics import classification_report,accuracy_score\n",
    "from sklearn.model_selection import GridSearchCV,cross_validate,train_test_split\n",
    "import matplotlib.pyplot as plt"
   ]
  },
  {
   "cell_type": "code",
   "execution_count": 3,
   "id": "8620c03e",
   "metadata": {},
   "outputs": [],
   "source": [
    "# converts a picture into normalized vector with values [0,1]\n",
    "# more info here https://stackoverflow.com/questions/63746182/correct-way-of-normalizing-and-scaling-the-mnist-dataset\n",
    "transformer = transforms.Compose([\n",
    "                               torchvision.transforms.ToTensor(),\n",
    "    transforms.Lambda(lambda x: torch.flatten(x)),\n",
    "#                                transforms.Normalize(\n",
    "#                                  (0.1307,), (0.3081,))\n",
    "                             ])"
   ]
  },
  {
   "cell_type": "code",
   "execution_count": 4,
   "id": "477d3dd5",
   "metadata": {},
   "outputs": [],
   "source": [
    "train_set=torchvision.datasets.FashionMNIST('./files/fashion-mnist/', train=True, download=True,\n",
    "                             transform=transformer)\n",
    "\n",
    "test_set=torchvision.datasets.FashionMNIST('./files/fashion-mnist/', train=False, download=True,\n",
    "                             transform=transformer)\n",
    "\n",
    "batch_size_train= (int)(len(train_set)/10)\n",
    "batch_size_test=len(test_set)"
   ]
  },
  {
   "cell_type": "code",
   "execution_count": 5,
   "id": "e1c127c0",
   "metadata": {},
   "outputs": [],
   "source": [
    "train_loader = torch.utils.data.DataLoader(\n",
    "  train_set,\n",
    "  batch_size=batch_size_train, shuffle=True)\n",
    "\n",
    "test_loader = torch.utils.data.DataLoader(\n",
    "  test_set,\n",
    "  batch_size=batch_size_test, shuffle=True)"
   ]
  },
  {
   "cell_type": "code",
   "execution_count": 6,
   "id": "ab69b8f6",
   "metadata": {},
   "outputs": [],
   "source": [
    "train_enumerated = enumerate(train_loader)\n",
    "_, (train_x, train_y) = next(train_enumerated)\n",
    "\n",
    "test_enumerated = enumerate(test_loader)\n",
    "batch_idx, (test_x, test_y) = next(test_enumerated)"
   ]
  },
  {
   "cell_type": "code",
   "execution_count": 9,
   "id": "b6dd0686",
   "metadata": {},
   "outputs": [
    {
     "data": {
      "text/plain": [
       "torch.Size([10000, 784])"
      ]
     },
     "execution_count": 9,
     "metadata": {},
     "output_type": "execute_result"
    }
   ],
   "source": [
    "train_x.shape\n",
    "test_x.shape"
   ]
  },
  {
   "cell_type": "code",
   "execution_count": 12,
   "id": "3296a2f8",
   "metadata": {},
   "outputs": [],
   "source": [
    "from sklearn import svm, datasets\n",
    "from sklearn.svm import SVC\n"
   ]
  },
  {
   "cell_type": "code",
   "execution_count": 31,
   "id": "f67eb9d7",
   "metadata": {},
   "outputs": [
    {
     "data": {
      "text/plain": [
       "SVC()"
      ]
     },
     "execution_count": 31,
     "metadata": {},
     "output_type": "execute_result"
    }
   ],
   "source": [
    "clf = svm.SVC()\n",
    "clf.fit(train_x,train_y)"
   ]
  },
  {
   "cell_type": "code",
   "execution_count": 36,
   "id": "ed7045e1",
   "metadata": {},
   "outputs": [
    {
     "data": {
      "text/plain": [
       "array([3, 4, 7, ..., 4, 1, 9], dtype=int64)"
      ]
     },
     "execution_count": 36,
     "metadata": {},
     "output_type": "execute_result"
    }
   ],
   "source": [
    "clf.predict(test_x)"
   ]
  },
  {
   "cell_type": "code",
   "execution_count": 34,
   "id": "e2115017",
   "metadata": {},
   "outputs": [
    {
     "data": {
      "text/plain": [
       "array([[0., 0., 0., ..., 0., 0., 0.],\n",
       "       [0., 0., 0., ..., 0., 0., 0.],\n",
       "       [0., 0., 0., ..., 0., 0., 0.],\n",
       "       ...,\n",
       "       [0., 0., 0., ..., 0., 0., 0.],\n",
       "       [0., 0., 0., ..., 0., 0., 0.],\n",
       "       [0., 0., 0., ..., 0., 0., 0.]])"
      ]
     },
     "execution_count": 34,
     "metadata": {},
     "output_type": "execute_result"
    }
   ],
   "source": [
    "clf.support_vectors_"
   ]
  },
  {
   "cell_type": "code",
   "execution_count": 15,
   "id": "80dc8958",
   "metadata": {},
   "outputs": [],
   "source": [
    "from sklearn.model_selection import cross_val_score\n"
   ]
  },
  {
   "cell_type": "code",
   "execution_count": 12,
   "id": "e710d2ee",
   "metadata": {},
   "outputs": [],
   "source": [
    "scores = []\n",
    "\n",
    "clf = svm.SVC()\n",
    "    \n",
    "with warnings.catch_warnings(record=True):\n",
    "    score = cross_val_score(\n",
    "            clf,\n",
    "            train_x,\n",
    "            train_y, \n",
    "            cv=5\n",
    "        )\n",
    "    scores.append(score.mean())"
   ]
  },
  {
   "cell_type": "code",
   "execution_count": 15,
   "id": "3ffd2590",
   "metadata": {},
   "outputs": [],
   "source": [
    "ovo = svm.SVC(decision_function_shape='ovo')\n",
    "    \n",
    "with warnings.catch_warnings(record=True):\n",
    "    score = cross_val_score(\n",
    "            ovo,\n",
    "            train_x,\n",
    "            train_y, \n",
    "            cv=5\n",
    "        )\n",
    "    scores.append(score.mean())"
   ]
  },
  {
   "cell_type": "code",
   "execution_count": 14,
   "id": "9d795af4",
   "metadata": {},
   "outputs": [],
   "source": [
    "ovr = svm.SVC(decision_function_shape='ovr')\n",
    "    \n",
    "with warnings.catch_warnings(record=True):\n",
    "    score = cross_val_score(\n",
    "            ovr,\n",
    "            train_x,\n",
    "            train_y, \n",
    "            cv=5\n",
    "        )\n",
    "    scores.append(score.mean())"
   ]
  },
  {
   "cell_type": "code",
   "execution_count": 16,
   "id": "b3d95d5b",
   "metadata": {},
   "outputs": [],
   "source": [
    "linear = svm.LinearSVC()\n",
    "    \n",
    "with warnings.catch_warnings(record=True):\n",
    "    score = cross_val_score(\n",
    "            linear,\n",
    "            train_x,\n",
    "            train_y, \n",
    "            cv=5\n",
    "        )\n",
    "    scores.append(score.mean())"
   ]
  },
  {
   "cell_type": "markdown",
   "id": "4dd78839",
   "metadata": {},
   "source": [
    "LinearSVC also implements an alternative multi-class strategy, the so-called multi-class SVM formulated by Crammer and Singer, by using the option multi_class='crammer_singer'. In practice, one-vs-rest classification is usually preferred, since the results are mostly similar, but the runtime is significantly less. Using the Crammer and Singer formula is extremely slow for big datasets."
   ]
  },
  {
   "cell_type": "code",
   "execution_count": null,
   "id": "e99380ca",
   "metadata": {},
   "outputs": [],
   "source": [
    "fast_linear = svm.LinearSVC(multi_class='crammer_singer')\n",
    "    \n",
    "with warnings.catch_warnings(record=True):\n",
    "    score = cross_val_score(\n",
    "            fast_linear,\n",
    "            train_x,\n",
    "            train_y, \n",
    "            cv=5\n",
    "        )\n",
    "    scores.append(score.mean())"
   ]
  },
  {
   "cell_type": "code",
   "execution_count": 17,
   "id": "0327da72",
   "metadata": {},
   "outputs": [
    {
     "data": {
      "text/plain": [
       "[0.8535, 0.8535, 0.8535, 0.8019999999999999]"
      ]
     },
     "execution_count": 17,
     "metadata": {},
     "output_type": "execute_result"
    }
   ],
   "source": [
    "scores"
   ]
  },
  {
   "cell_type": "code",
   "execution_count": 23,
   "id": "50452979",
   "metadata": {},
   "outputs": [
    {
     "name": "stdout",
     "output_type": "stream",
     "text": [
      "0.1\n",
      "0.2\n",
      "0.30000000000000004\n",
      "0.4\n",
      "0.5\n",
      "0.6\n",
      "0.7\n",
      "0.7999999999999999\n",
      "0.9\n",
      "1.0\n"
     ]
    }
   ],
   "source": [
    "kernel_scores = []\n",
    "gammas = [i/10 + 0.1 for i in range(10)]\n",
    "cs = []\n",
    "\n",
    "for number in gammas:\n",
    "    clf = svm.SVC(kernel=\"rbf\",gamma=number,C=1.0)\n",
    "    \n",
    "    with warnings.catch_warnings(record=True):\n",
    "        score = cross_val_score(\n",
    "                clf,\n",
    "                train_x,\n",
    "                train_y, \n",
    "                cv=5\n",
    "            )\n",
    "        kernel_scores.append(score.mean())"
   ]
  },
  {
   "cell_type": "code",
   "execution_count": 24,
   "id": "9347bb00",
   "metadata": {
    "scrolled": true
   },
   "outputs": [
    {
     "data": {
      "text/plain": [
       "[0.7671666666666667,\n",
       " 0.5416666666666666,\n",
       " 0.37700000000000006,\n",
       " 0.25,\n",
       " 0.195,\n",
       " 0.16266666666666665,\n",
       " 0.14583333333333334,\n",
       " 0.13216666666666665,\n",
       " 0.12250000000000001,\n",
       " 0.11516666666666667]"
      ]
     },
     "execution_count": 24,
     "metadata": {},
     "output_type": "execute_result"
    }
   ],
   "source": [
    "kernel_scores"
   ]
  },
  {
   "cell_type": "code",
   "execution_count": 16,
   "id": "63f12bc8",
   "metadata": {},
   "outputs": [],
   "source": [
    "kernel_scores = []\n",
    "cs = [1/10*(i+1)  for i in range(10)]\n",
    "\n",
    "for number in cs:\n",
    "    clf = svm.SVC(kernel=\"rbf\",gamma='auto',C=number)\n",
    "    \n",
    "    with warnings.catch_warnings(record=True):\n",
    "        score = cross_val_score(\n",
    "                clf,\n",
    "                train_x,\n",
    "                train_y, \n",
    "                cv=5\n",
    "            )\n",
    "        kernel_scores.append(score.mean())"
   ]
  },
  {
   "cell_type": "code",
   "execution_count": 17,
   "id": "b5586677",
   "metadata": {},
   "outputs": [
    {
     "data": {
      "text/plain": [
       "[0.7130000000000001,\n",
       " 0.7435,\n",
       " 0.76,\n",
       " 0.7695000000000001,\n",
       " 0.7758333333333334,\n",
       " 0.7796666666666667,\n",
       " 0.7838333333333333,\n",
       " 0.7886666666666666,\n",
       " 0.7925,\n",
       " 0.7954999999999999]"
      ]
     },
     "execution_count": 17,
     "metadata": {},
     "output_type": "execute_result"
    }
   ],
   "source": [
    "kernel_scores"
   ]
  },
  {
   "cell_type": "code",
   "execution_count": 26,
   "id": "ed641c10",
   "metadata": {},
   "outputs": [],
   "source": [
    "auto_score = []\n",
    "\n",
    "clf = svm.SVC(kernel=\"rbf\",gamma='auto',C=1.0)\n",
    "\n",
    "with warnings.catch_warnings(record=True):\n",
    "    score = cross_val_score(\n",
    "        clf,\n",
    "        train_x,\n",
    "        train_y, \n",
    "        cv=5\n",
    "    )\n",
    "    auto_score.append(score.mean())"
   ]
  },
  {
   "cell_type": "code",
   "execution_count": 14,
   "id": "46e3bc6d",
   "metadata": {},
   "outputs": [],
   "source": [
    "model_lbls = [\n",
    "              'lin', \n",
    "            ]\n",
    "\n",
    "models = {\n",
    "    'lin': {'name': 'Linear       ',\n",
    "           'estimator': svm.LinearSVC(), \n",
    "           'param': [{}],\n",
    "          }\n",
    "}\n",
    "\n",
    "scores = ['precision', 'recall']"
   ]
  },
  {
   "cell_type": "code",
   "execution_count": 10,
   "id": "9010e575",
   "metadata": {},
   "outputs": [],
   "source": [
    "def evaluate_models(models):\n",
    "    results_short = {}\n",
    "    for score in scores:\n",
    "        print('='*40)\n",
    "        print(\"# Tuning hyper-parameters for %s\" % score)\n",
    "        print()\n",
    "\n",
    "        #'%s_macro' % score ## is a string formatting expression\n",
    "        # the parameter after % is substituted in the string placeholder %s\n",
    "        for m in model_lbls:\n",
    "            print('-'*40)\n",
    "            print(\"Trying model {}\".format(models[m]['name']))\n",
    "            clf = GridSearchCV(models[m]['estimator'], models[m]['param'], cv=5,\n",
    "                               scoring='%s_macro' % score, \n",
    "    #                            iid = False, \n",
    "                               return_train_score = False,\n",
    "                               n_jobs = 2, # this allows using multi-cores\n",
    "                               )\n",
    "            clf.fit(train_x, train_y)\n",
    "            print_results(clf)\n",
    "            results_short[m] = clf.best_score_\n",
    "        print(\"Summary of results for {}\".format(score))\n",
    "        print(\"Estimator\")\n",
    "        for m in results_short.keys():\n",
    "            print(\"{}\\t - score: {:4.2}%\".format(models[m]['name'], results_short[m]))"
   ]
  },
  {
   "cell_type": "code",
   "execution_count": null,
   "id": "b2a7138e",
   "metadata": {},
   "outputs": [
    {
     "name": "stdout",
     "output_type": "stream",
     "text": [
      "========================================\n",
      "# Tuning hyper-parameters for precision\n",
      "\n",
      "----------------------------------------\n",
      "Trying model Linear       \n"
     ]
    }
   ],
   "source": [
    "evaluate_models(models)"
   ]
  },
  {
   "cell_type": "code",
   "execution_count": 27,
   "id": "ff9db7ed",
   "metadata": {},
   "outputs": [
    {
     "data": {
      "text/plain": [
       "[0.8053333333333332]"
      ]
     },
     "execution_count": 27,
     "metadata": {},
     "output_type": "execute_result"
    }
   ],
   "source": [
    "auto_score"
   ]
  },
  {
   "cell_type": "markdown",
   "id": "ea56b777",
   "metadata": {},
   "source": [
    "Стигаме до заключението, че гама трябва да е малко число близо до 0."
   ]
  },
  {
   "cell_type": "code",
   "execution_count": 2,
   "id": "03f5ee20",
   "metadata": {},
   "outputs": [],
   "source": [
    "from sklearn.model_selection import StratifiedShuffleSplit\n",
    "from sklearn.model_selection import GridSearchCV"
   ]
  },
  {
   "cell_type": "code",
   "execution_count": 41,
   "id": "46f82f68",
   "metadata": {},
   "outputs": [],
   "source": [
    "from sklearn.preprocessing import StandardScaler"
   ]
  },
  {
   "cell_type": "code",
   "execution_count": 42,
   "id": "625abd63",
   "metadata": {},
   "outputs": [],
   "source": [
    "scaler = StandardScaler()\n",
    "train_x = scaler.fit_transform(train_x)"
   ]
  },
  {
   "cell_type": "code",
   "execution_count": 13,
   "id": "ac451555",
   "metadata": {},
   "outputs": [
    {
     "name": "stdout",
     "output_type": "stream",
     "text": [
      "{'C': 0.1, 'kernel': 'linear'}\n",
      "0.837099606781314\n"
     ]
    }
   ],
   "source": [
    "grid = [\n",
    "#     {'kernel' : ['rbf'],\n",
    "#     'C' : [0.001, 0.01, 0.1, 1 ,10],\n",
    "#     'gamma' : [0.001, 0.01, 0.1, 1]},\n",
    "    {'kernel' : ['linear'],\n",
    "    'C' : [0.001, 0.01, 0.1, 1 ,10],\n",
    "    }\n",
    "]\n",
    "\n",
    "search1 = GridSearchCV(SVC(),grid, cv=3)\n",
    "search1.fit(test_x, test_y)\n",
    "\n",
    "print(search1.best_params_)\n",
    "print(search1.best_score_)\n"
   ]
  },
  {
   "cell_type": "code",
   "execution_count": 12,
   "id": "392daa7b",
   "metadata": {},
   "outputs": [
    {
     "name": "stdout",
     "output_type": "stream",
     "text": [
      "{'C': 100, 'gamma': 'auto', 'kernel': 'rbf'}\n",
      "0.8474\n"
     ]
    }
   ],
   "source": [
    "grid = [\n",
    "    {'kernel' : ['rbf'],\n",
    "    'C' : [0.001, 0.01, 0.1, 1 ,10,100],\n",
    "    'gamma' : [\"auto\"]}\n",
    "]\n",
    "\n",
    "search = GridSearchCV(SVC(),grid, cv=5)\n",
    "search.fit(test_x, test_y)\n",
    "\n",
    "print(search.best_params_)\n",
    "print(search.best_score_)"
   ]
  },
  {
   "cell_type": "code",
   "execution_count": null,
   "id": "ba9d26f4",
   "metadata": {},
   "outputs": [],
   "source": [
    "auto_score = []\n",
    "\n",
    "clf = svm.SVC(kernel=\"rbf\",gamma='auto',C=1.0)\n",
    "\n",
    "with warnings.catch_warnings(record=True):\n",
    "    score = cross_val_score(\n",
    "        clf,\n",
    "        train_x,\n",
    "        train_y, \n",
    "        cv=5\n",
    "    )\n",
    "    auto_score.append(score.mean())"
   ]
  },
  {
   "cell_type": "code",
   "execution_count": 45,
   "id": "abd1b676",
   "metadata": {},
   "outputs": [],
   "source": [
    "from sklearn.metrics import accuracy_score\n"
   ]
  },
  {
   "cell_type": "code",
   "execution_count": 46,
   "id": "e2ed584a",
   "metadata": {},
   "outputs": [],
   "source": [
    "prediction = clf.predict(test_x)"
   ]
  },
  {
   "cell_type": "code",
   "execution_count": 48,
   "id": "84f69171",
   "metadata": {},
   "outputs": [
    {
     "data": {
      "text/plain": [
       "0.8416"
      ]
     },
     "execution_count": 48,
     "metadata": {},
     "output_type": "execute_result"
    }
   ],
   "source": [
    "acc = accuracy_score(test_y, prediction)\n",
    "acc"
   ]
  }
 ],
 "metadata": {
  "kernelspec": {
   "display_name": "Python 3 (ipykernel)",
   "language": "python",
   "name": "python3"
  },
  "language_info": {
   "codemirror_mode": {
    "name": "ipython",
    "version": 3
   },
   "file_extension": ".py",
   "mimetype": "text/x-python",
   "name": "python",
   "nbconvert_exporter": "python",
   "pygments_lexer": "ipython3",
   "version": "3.9.13"
  }
 },
 "nbformat": 4,
 "nbformat_minor": 5
}

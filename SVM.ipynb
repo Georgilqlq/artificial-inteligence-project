{
 "cells": [
  {
   "cell_type": "code",
   "execution_count": 1,
   "id": "5c3303ed",
   "metadata": {},
   "outputs": [
    {
     "name": "stdout",
     "output_type": "stream",
     "text": [
      "Requirement already satisfied: torch in c:\\anaconda\\lib\\site-packages (1.13.1)\n",
      "Requirement already satisfied: typing-extensions in c:\\anaconda\\lib\\site-packages (from torch) (4.3.0)\n",
      "Requirement already satisfied: torchvision in c:\\anaconda\\lib\\site-packages (0.14.1)\n",
      "Requirement already satisfied: pillow!=8.3.*,>=5.3.0 in c:\\anaconda\\lib\\site-packages (from torchvision) (9.2.0)\n",
      "Requirement already satisfied: requests in c:\\anaconda\\lib\\site-packages (from torchvision) (2.28.1)\n",
      "Requirement already satisfied: typing-extensions in c:\\anaconda\\lib\\site-packages (from torchvision) (4.3.0)\n",
      "Requirement already satisfied: numpy in c:\\anaconda\\lib\\site-packages (from torchvision) (1.21.5)\n",
      "Requirement already satisfied: torch==1.13.1 in c:\\anaconda\\lib\\site-packages (from torchvision) (1.13.1)\n",
      "Requirement already satisfied: charset-normalizer<3,>=2 in c:\\anaconda\\lib\\site-packages (from requests->torchvision) (2.0.4)\n",
      "Requirement already satisfied: certifi>=2017.4.17 in c:\\anaconda\\lib\\site-packages (from requests->torchvision) (2022.9.14)\n",
      "Requirement already satisfied: urllib3<1.27,>=1.21.1 in c:\\anaconda\\lib\\site-packages (from requests->torchvision) (1.26.11)\n",
      "Requirement already satisfied: idna<4,>=2.5 in c:\\anaconda\\lib\\site-packages (from requests->torchvision) (3.3)\n"
     ]
    }
   ],
   "source": [
    "!pip install torch\n",
    "!pip install torchvision"
   ]
  },
  {
   "cell_type": "code",
   "execution_count": 11,
   "id": "74d8491f",
   "metadata": {},
   "outputs": [],
   "source": [
    "import torch\n",
    "import torchvision\n",
    "from torchvision import transforms\n",
    "import numpy as np\n",
    "import warnings\n",
    "warnings.filterwarnings('ignore')\n",
    "from sklearn import svm, datasets\n",
    "from sklearn.svm import SVC\n",
    "from sklearn.metrics import classification_report,accuracy_score\n",
    "from sklearn.model_selection import GridSearchCV,cross_validate,train_test_split\n",
    "import matplotlib.pyplot as plt"
   ]
  },
  {
   "cell_type": "code",
   "execution_count": 3,
   "id": "8620c03e",
   "metadata": {},
   "outputs": [],
   "source": [
    "transformer = transforms.Compose([\n",
    "                               torchvision.transforms.ToTensor(),\n",
    "    transforms.Lambda(lambda x: torch.flatten(x)),\n",
    "                             ])"
   ]
  },
  {
   "cell_type": "code",
   "execution_count": 4,
   "id": "477d3dd5",
   "metadata": {},
   "outputs": [
    {
     "name": "stdout",
     "output_type": "stream",
     "text": [
      "Downloading http://fashion-mnist.s3-website.eu-central-1.amazonaws.com/train-images-idx3-ubyte.gz\n",
      "Downloading http://fashion-mnist.s3-website.eu-central-1.amazonaws.com/train-images-idx3-ubyte.gz to ./files/fashion-mnist/FashionMNIST\\raw\\train-images-idx3-ubyte.gz\n"
     ]
    },
    {
     "data": {
      "application/vnd.jupyter.widget-view+json": {
       "model_id": "82b41c5ee9be40649bf67383b7ff149d",
       "version_major": 2,
       "version_minor": 0
      },
      "text/plain": [
       "  0%|          | 0/26421880 [00:00<?, ?it/s]"
      ]
     },
     "metadata": {},
     "output_type": "display_data"
    },
    {
     "name": "stdout",
     "output_type": "stream",
     "text": [
      "Extracting ./files/fashion-mnist/FashionMNIST\\raw\\train-images-idx3-ubyte.gz to ./files/fashion-mnist/FashionMNIST\\raw\n",
      "\n",
      "Downloading http://fashion-mnist.s3-website.eu-central-1.amazonaws.com/train-labels-idx1-ubyte.gz\n",
      "Downloading http://fashion-mnist.s3-website.eu-central-1.amazonaws.com/train-labels-idx1-ubyte.gz to ./files/fashion-mnist/FashionMNIST\\raw\\train-labels-idx1-ubyte.gz\n"
     ]
    },
    {
     "data": {
      "application/vnd.jupyter.widget-view+json": {
       "model_id": "34e50c5e1c6940279a5010ddf115084c",
       "version_major": 2,
       "version_minor": 0
      },
      "text/plain": [
       "  0%|          | 0/29515 [00:00<?, ?it/s]"
      ]
     },
     "metadata": {},
     "output_type": "display_data"
    },
    {
     "name": "stdout",
     "output_type": "stream",
     "text": [
      "Extracting ./files/fashion-mnist/FashionMNIST\\raw\\train-labels-idx1-ubyte.gz to ./files/fashion-mnist/FashionMNIST\\raw\n",
      "\n",
      "Downloading http://fashion-mnist.s3-website.eu-central-1.amazonaws.com/t10k-images-idx3-ubyte.gz\n",
      "Downloading http://fashion-mnist.s3-website.eu-central-1.amazonaws.com/t10k-images-idx3-ubyte.gz to ./files/fashion-mnist/FashionMNIST\\raw\\t10k-images-idx3-ubyte.gz\n"
     ]
    },
    {
     "data": {
      "application/vnd.jupyter.widget-view+json": {
       "model_id": "9d0b23feda644c1e947e658f7878cccf",
       "version_major": 2,
       "version_minor": 0
      },
      "text/plain": [
       "  0%|          | 0/4422102 [00:00<?, ?it/s]"
      ]
     },
     "metadata": {},
     "output_type": "display_data"
    },
    {
     "name": "stdout",
     "output_type": "stream",
     "text": [
      "Extracting ./files/fashion-mnist/FashionMNIST\\raw\\t10k-images-idx3-ubyte.gz to ./files/fashion-mnist/FashionMNIST\\raw\n",
      "\n",
      "Downloading http://fashion-mnist.s3-website.eu-central-1.amazonaws.com/t10k-labels-idx1-ubyte.gz\n",
      "Downloading http://fashion-mnist.s3-website.eu-central-1.amazonaws.com/t10k-labels-idx1-ubyte.gz to ./files/fashion-mnist/FashionMNIST\\raw\\t10k-labels-idx1-ubyte.gz\n"
     ]
    },
    {
     "data": {
      "application/vnd.jupyter.widget-view+json": {
       "model_id": "bcd786615e2e41b491050bea0efe1648",
       "version_major": 2,
       "version_minor": 0
      },
      "text/plain": [
       "  0%|          | 0/5148 [00:00<?, ?it/s]"
      ]
     },
     "metadata": {},
     "output_type": "display_data"
    },
    {
     "name": "stdout",
     "output_type": "stream",
     "text": [
      "Extracting ./files/fashion-mnist/FashionMNIST\\raw\\t10k-labels-idx1-ubyte.gz to ./files/fashion-mnist/FashionMNIST\\raw\n",
      "\n"
     ]
    }
   ],
   "source": [
    "train_set=torchvision.datasets.FashionMNIST('./files/fashion-mnist/', train=True, download=True,\n",
    "                             transform=transformer)\n",
    "\n",
    "test_set=torchvision.datasets.FashionMNIST('./files/fashion-mnist/', train=False, download=True,\n",
    "                             transform=transformer)\n",
    "\n",
    "batch_size_train= len(train_set)//5\n",
    "batch_size_test=len(test_set)"
   ]
  },
  {
   "cell_type": "code",
   "execution_count": 5,
   "id": "e1c127c0",
   "metadata": {},
   "outputs": [],
   "source": [
    "train_loader = torch.utils.data.DataLoader(\n",
    "  train_set,\n",
    "  batch_size=batch_size_train, shuffle=True)\n",
    "\n",
    "test_loader = torch.utils.data.DataLoader(\n",
    "  test_set,\n",
    "  batch_size=batch_size_test, shuffle=True)"
   ]
  },
  {
   "cell_type": "code",
   "execution_count": 6,
   "id": "ab69b8f6",
   "metadata": {},
   "outputs": [],
   "source": [
    "train_enumerated = enumerate(train_loader)\n",
    "batch_idx, (train_x, train_y) = next(train_enumerated)\n",
    "\n",
    "test_enumerated = enumerate(test_loader)\n",
    "batch_idx, (test_x, test_y) = next(test_enumerated)"
   ]
  },
  {
   "cell_type": "code",
   "execution_count": 10,
   "id": "b6dd0686",
   "metadata": {},
   "outputs": [
    {
     "data": {
      "text/plain": [
       "torch.Size([12000, 784])"
      ]
     },
     "execution_count": 10,
     "metadata": {},
     "output_type": "execute_result"
    }
   ],
   "source": [
    "train_x.shape"
   ]
  },
  {
   "cell_type": "code",
   "execution_count": 8,
   "id": "68ef0433",
   "metadata": {},
   "outputs": [
    {
     "data": {
      "text/plain": [
       "torch.Size([784])"
      ]
     },
     "execution_count": 8,
     "metadata": {},
     "output_type": "execute_result"
    }
   ],
   "source": [
    "train_x[1].shape"
   ]
  },
  {
   "cell_type": "markdown",
   "id": "76e796f8",
   "metadata": {},
   "source": [
    "# Models\n"
   ]
  },
  {
   "cell_type": "code",
   "execution_count": 20,
   "id": "3296a2f8",
   "metadata": {},
   "outputs": [],
   "source": [
    "model_lbls = [\n",
    "              'Polynomial', 'RBF', 'Sigmoid','Linear' \n",
    "            ]\n",
    "\n",
    "models = {\n",
    "    'Polynomial': {'name': 'SVM Polynomial Kernel',\n",
    "           'estimator': SVC(kernel='poly'), \n",
    "           'param': [{'degree': [8]}],\n",
    "          },\n",
    "    'RBF': {'name': 'SVM RBF Kernel',\n",
    "           'estimator': SVC(kernel= 'rbf'),\n",
    "           'param': [{}]\n",
    "          },\n",
    "    'Sigmoid': {'name': 'SVM Sigmoid Kernel',\n",
    "           'estimator': SVC(kernel= 'sigmoid'),\n",
    "           'param': [{}],\n",
    "          },\n",
    "    'Linear':{'name': 'SVM Linear Kernel',\n",
    "           'estimator': SVC(kernel= 'linear'), \n",
    "           'param': [{}]\n",
    "          },\n",
    "}\n",
    "\n",
    "scores = ['precision', 'recall','f1']"
   ]
  },
  {
   "cell_type": "code",
   "execution_count": 13,
   "id": "cdacc0b9",
   "metadata": {},
   "outputs": [],
   "source": [
    "def print_results(model):\n",
    "    print(\"Best parameters set found on train set:\")\n",
    "    print()\n",
    "    # if best is linear there is no gamma parameter\n",
    "    print(model.best_params_)\n",
    "    print()\n",
    "    print(\"Grid scores on train set:\")\n",
    "    print()\n",
    "    means = model.cv_results_['mean_test_score']\n",
    "    stds = model.cv_results_['std_test_score']\n",
    "    params = model.cv_results_['params']\n",
    "    print()\n",
    "    print(\"Detailed classification report for the best parameter set:\")\n",
    "    print()\n",
    "    print(\"The model is trained on the full train set.\")\n",
    "    print(\"The scores are computed on the full test set.\")\n",
    "    print()\n",
    "    true_y, pred_y = test_y, model.predict(test_x)\n",
    "    print(classification_report(true_y, pred_y))\n",
    "    print()"
   ]
  },
  {
   "cell_type": "code",
   "execution_count": 14,
   "id": "0c560913",
   "metadata": {},
   "outputs": [],
   "source": [
    "\n",
    "def evaluate_models(models):\n",
    "    results_short = {}\n",
    "    for score in scores:\n",
    "        print('='*40)\n",
    "        print(\"# Tuning hyper-parameters for %s\" % score)\n",
    "        print()\n",
    "\n",
    "        for m in model_lbls:\n",
    "            print('-'*40)\n",
    "            print(\"Trying model {}\".format(models[m]['name']))\n",
    "            clf = GridSearchCV(models[m]['estimator'], models[m]['param'], cv=5,\n",
    "                               scoring='%s_macro' % score, \n",
    "                               return_train_score = False,\n",
    "                               n_jobs = 2, \n",
    "                               )\n",
    "            clf.fit(train_x, train_y)\n",
    "            print_results(clf)\n",
    "            results_short[m] = clf.best_score_\n",
    "        print(\"Summary of results for {}\".format(score))\n",
    "        print(\"Estimator\")\n",
    "        for m in results_short.keys():\n",
    "            print(\"{}\\t - score: {:4.2}%\".format(models[m]['name'], results_short[m]))"
   ]
  },
  {
   "cell_type": "code",
   "execution_count": 21,
   "id": "ef4ef893",
   "metadata": {},
   "outputs": [
    {
     "name": "stdout",
     "output_type": "stream",
     "text": [
      "========================================\n",
      "# Tuning hyper-parameters for precision\n",
      "\n",
      "----------------------------------------\n",
      "Trying model SVM Polynomial Kernel\n",
      "Best parameters set found on train set:\n",
      "\n",
      "{'degree': 8}\n",
      "\n",
      "Grid scores on train set:\n",
      "\n",
      "\n",
      "Detailed classification report for the best parameter set:\n",
      "\n",
      "The model is trained on the full train set.\n",
      "The scores are computed on the full test set.\n",
      "\n",
      "              precision    recall  f1-score   support\n",
      "\n",
      "           0       0.82      0.65      0.73      1000\n",
      "           1       0.96      0.87      0.91      1000\n",
      "           2       0.69      0.59      0.64      1000\n",
      "           3       0.87      0.70      0.78      1000\n",
      "           4       0.75      0.67      0.71      1000\n",
      "           5       0.42      0.95      0.58      1000\n",
      "           6       0.56      0.50      0.53      1000\n",
      "           7       0.90      0.66      0.76      1000\n",
      "           8       0.93      0.85      0.89      1000\n",
      "           9       0.93      0.89      0.91      1000\n",
      "\n",
      "    accuracy                           0.73     10000\n",
      "   macro avg       0.78      0.73      0.74     10000\n",
      "weighted avg       0.78      0.73      0.74     10000\n",
      "\n",
      "\n",
      "----------------------------------------\n",
      "Trying model SVM RBF Kernel\n",
      "Best parameters set found on train set:\n",
      "\n",
      "{}\n",
      "\n",
      "Grid scores on train set:\n",
      "\n",
      "\n",
      "Detailed classification report for the best parameter set:\n",
      "\n",
      "The model is trained on the full train set.\n",
      "The scores are computed on the full test set.\n",
      "\n",
      "              precision    recall  f1-score   support\n",
      "\n",
      "           0       0.80      0.82      0.81      1000\n",
      "           1       0.99      0.95      0.97      1000\n",
      "           2       0.75      0.77      0.76      1000\n",
      "           3       0.84      0.88      0.86      1000\n",
      "           4       0.75      0.78      0.77      1000\n",
      "           5       0.94      0.94      0.94      1000\n",
      "           6       0.66      0.57      0.61      1000\n",
      "           7       0.90      0.93      0.92      1000\n",
      "           8       0.94      0.97      0.95      1000\n",
      "           9       0.95      0.93      0.94      1000\n",
      "\n",
      "    accuracy                           0.85     10000\n",
      "   macro avg       0.85      0.85      0.85     10000\n",
      "weighted avg       0.85      0.85      0.85     10000\n",
      "\n",
      "\n",
      "----------------------------------------\n",
      "Trying model SVM Sigmoid Kernel\n",
      "Best parameters set found on train set:\n",
      "\n",
      "{}\n",
      "\n",
      "Grid scores on train set:\n",
      "\n",
      "\n",
      "Detailed classification report for the best parameter set:\n",
      "\n",
      "The model is trained on the full train set.\n",
      "The scores are computed on the full test set.\n",
      "\n",
      "              precision    recall  f1-score   support\n",
      "\n",
      "           0       0.27      0.51      0.35      1000\n",
      "           1       0.99      0.59      0.74      1000\n",
      "           2       0.23      0.17      0.20      1000\n",
      "           3       0.27      0.58      0.37      1000\n",
      "           4       0.38      0.20      0.27      1000\n",
      "           5       0.52      0.53      0.52      1000\n",
      "           6       0.22      0.03      0.05      1000\n",
      "           7       0.87      0.65      0.74      1000\n",
      "           8       0.57      0.46      0.51      1000\n",
      "           9       0.43      0.60      0.50      1000\n",
      "\n",
      "    accuracy                           0.43     10000\n",
      "   macro avg       0.48      0.43      0.43     10000\n",
      "weighted avg       0.48      0.43      0.43     10000\n",
      "\n",
      "\n",
      "----------------------------------------\n",
      "Trying model SVM Linear Kernel\n",
      "Best parameters set found on train set:\n",
      "\n",
      "{}\n",
      "\n",
      "Grid scores on train set:\n",
      "\n",
      "\n",
      "Detailed classification report for the best parameter set:\n",
      "\n",
      "The model is trained on the full train set.\n",
      "The scores are computed on the full test set.\n",
      "\n",
      "              precision    recall  f1-score   support\n",
      "\n",
      "           0       0.73      0.82      0.77      1000\n",
      "           1       0.95      0.95      0.95      1000\n",
      "           2       0.69      0.76      0.72      1000\n",
      "           3       0.85      0.81      0.83      1000\n",
      "           4       0.75      0.70      0.72      1000\n",
      "           5       0.92      0.93      0.92      1000\n",
      "           6       0.64      0.56      0.60      1000\n",
      "           7       0.90      0.93      0.92      1000\n",
      "           8       0.94      0.94      0.94      1000\n",
      "           9       0.94      0.93      0.93      1000\n",
      "\n",
      "    accuracy                           0.83     10000\n",
      "   macro avg       0.83      0.83      0.83     10000\n",
      "weighted avg       0.83      0.83      0.83     10000\n",
      "\n",
      "\n",
      "Summary of results for precision\n",
      "Estimator\n",
      "SVM Polynomial Kernel\t - score: 0.79%\n",
      "SVM RBF Kernel\t - score: 0.86%\n",
      "SVM Sigmoid Kernel\t - score: 0.49%\n",
      "SVM Linear Kernel\t - score: 0.83%\n",
      "========================================\n",
      "# Tuning hyper-parameters for recall\n",
      "\n",
      "----------------------------------------\n",
      "Trying model SVM Polynomial Kernel\n",
      "Best parameters set found on train set:\n",
      "\n",
      "{'degree': 8}\n",
      "\n",
      "Grid scores on train set:\n",
      "\n",
      "\n",
      "Detailed classification report for the best parameter set:\n",
      "\n",
      "The model is trained on the full train set.\n",
      "The scores are computed on the full test set.\n",
      "\n",
      "              precision    recall  f1-score   support\n",
      "\n",
      "           0       0.82      0.65      0.73      1000\n",
      "           1       0.96      0.87      0.91      1000\n",
      "           2       0.69      0.59      0.64      1000\n",
      "           3       0.87      0.70      0.78      1000\n",
      "           4       0.75      0.67      0.71      1000\n",
      "           5       0.42      0.95      0.58      1000\n",
      "           6       0.56      0.50      0.53      1000\n",
      "           7       0.90      0.66      0.76      1000\n",
      "           8       0.93      0.85      0.89      1000\n",
      "           9       0.93      0.89      0.91      1000\n",
      "\n",
      "    accuracy                           0.73     10000\n",
      "   macro avg       0.78      0.73      0.74     10000\n",
      "weighted avg       0.78      0.73      0.74     10000\n",
      "\n",
      "\n",
      "----------------------------------------\n",
      "Trying model SVM RBF Kernel\n",
      "Best parameters set found on train set:\n",
      "\n",
      "{}\n",
      "\n",
      "Grid scores on train set:\n",
      "\n",
      "\n",
      "Detailed classification report for the best parameter set:\n",
      "\n",
      "The model is trained on the full train set.\n",
      "The scores are computed on the full test set.\n",
      "\n",
      "              precision    recall  f1-score   support\n",
      "\n",
      "           0       0.80      0.82      0.81      1000\n",
      "           1       0.99      0.95      0.97      1000\n",
      "           2       0.75      0.77      0.76      1000\n",
      "           3       0.84      0.88      0.86      1000\n",
      "           4       0.75      0.78      0.77      1000\n",
      "           5       0.94      0.94      0.94      1000\n",
      "           6       0.66      0.57      0.61      1000\n",
      "           7       0.90      0.93      0.92      1000\n",
      "           8       0.94      0.97      0.95      1000\n",
      "           9       0.95      0.93      0.94      1000\n",
      "\n",
      "    accuracy                           0.85     10000\n",
      "   macro avg       0.85      0.85      0.85     10000\n",
      "weighted avg       0.85      0.85      0.85     10000\n",
      "\n",
      "\n",
      "----------------------------------------\n",
      "Trying model SVM Sigmoid Kernel\n",
      "Best parameters set found on train set:\n",
      "\n",
      "{}\n",
      "\n",
      "Grid scores on train set:\n",
      "\n",
      "\n",
      "Detailed classification report for the best parameter set:\n",
      "\n",
      "The model is trained on the full train set.\n",
      "The scores are computed on the full test set.\n",
      "\n",
      "              precision    recall  f1-score   support\n",
      "\n",
      "           0       0.27      0.51      0.35      1000\n",
      "           1       0.99      0.59      0.74      1000\n",
      "           2       0.23      0.17      0.20      1000\n",
      "           3       0.27      0.58      0.37      1000\n",
      "           4       0.38      0.20      0.27      1000\n",
      "           5       0.52      0.53      0.52      1000\n",
      "           6       0.22      0.03      0.05      1000\n",
      "           7       0.87      0.65      0.74      1000\n",
      "           8       0.57      0.46      0.51      1000\n",
      "           9       0.43      0.60      0.50      1000\n",
      "\n",
      "    accuracy                           0.43     10000\n",
      "   macro avg       0.48      0.43      0.43     10000\n",
      "weighted avg       0.48      0.43      0.43     10000\n",
      "\n",
      "\n",
      "----------------------------------------\n",
      "Trying model SVM Linear Kernel\n",
      "Best parameters set found on train set:\n",
      "\n",
      "{}\n",
      "\n",
      "Grid scores on train set:\n",
      "\n",
      "\n",
      "Detailed classification report for the best parameter set:\n",
      "\n",
      "The model is trained on the full train set.\n",
      "The scores are computed on the full test set.\n",
      "\n",
      "              precision    recall  f1-score   support\n",
      "\n",
      "           0       0.73      0.82      0.77      1000\n",
      "           1       0.95      0.95      0.95      1000\n",
      "           2       0.69      0.76      0.72      1000\n",
      "           3       0.85      0.81      0.83      1000\n",
      "           4       0.75      0.70      0.72      1000\n",
      "           5       0.92      0.93      0.92      1000\n",
      "           6       0.64      0.56      0.60      1000\n",
      "           7       0.90      0.93      0.92      1000\n",
      "           8       0.94      0.94      0.94      1000\n",
      "           9       0.94      0.93      0.93      1000\n",
      "\n",
      "    accuracy                           0.83     10000\n",
      "   macro avg       0.83      0.83      0.83     10000\n",
      "weighted avg       0.83      0.83      0.83     10000\n",
      "\n",
      "\n",
      "Summary of results for recall\n",
      "Estimator\n",
      "SVM Polynomial Kernel\t - score: 0.73%\n",
      "SVM RBF Kernel\t - score: 0.86%\n",
      "SVM Sigmoid Kernel\t - score: 0.44%\n",
      "SVM Linear Kernel\t - score: 0.83%\n",
      "========================================\n",
      "# Tuning hyper-parameters for f1\n",
      "\n",
      "----------------------------------------\n",
      "Trying model SVM Polynomial Kernel\n"
     ]
    },
    {
     "name": "stdout",
     "output_type": "stream",
     "text": [
      "Best parameters set found on train set:\n",
      "\n",
      "{'degree': 8}\n",
      "\n",
      "Grid scores on train set:\n",
      "\n",
      "\n",
      "Detailed classification report for the best parameter set:\n",
      "\n",
      "The model is trained on the full train set.\n",
      "The scores are computed on the full test set.\n",
      "\n",
      "              precision    recall  f1-score   support\n",
      "\n",
      "           0       0.82      0.65      0.73      1000\n",
      "           1       0.96      0.87      0.91      1000\n",
      "           2       0.69      0.59      0.64      1000\n",
      "           3       0.87      0.70      0.78      1000\n",
      "           4       0.75      0.67      0.71      1000\n",
      "           5       0.42      0.95      0.58      1000\n",
      "           6       0.56      0.50      0.53      1000\n",
      "           7       0.90      0.66      0.76      1000\n",
      "           8       0.93      0.85      0.89      1000\n",
      "           9       0.93      0.89      0.91      1000\n",
      "\n",
      "    accuracy                           0.73     10000\n",
      "   macro avg       0.78      0.73      0.74     10000\n",
      "weighted avg       0.78      0.73      0.74     10000\n",
      "\n",
      "\n",
      "----------------------------------------\n",
      "Trying model SVM RBF Kernel\n",
      "Best parameters set found on train set:\n",
      "\n",
      "{}\n",
      "\n",
      "Grid scores on train set:\n",
      "\n",
      "\n",
      "Detailed classification report for the best parameter set:\n",
      "\n",
      "The model is trained on the full train set.\n",
      "The scores are computed on the full test set.\n",
      "\n",
      "              precision    recall  f1-score   support\n",
      "\n",
      "           0       0.80      0.82      0.81      1000\n",
      "           1       0.99      0.95      0.97      1000\n",
      "           2       0.75      0.77      0.76      1000\n",
      "           3       0.84      0.88      0.86      1000\n",
      "           4       0.75      0.78      0.77      1000\n",
      "           5       0.94      0.94      0.94      1000\n",
      "           6       0.66      0.57      0.61      1000\n",
      "           7       0.90      0.93      0.92      1000\n",
      "           8       0.94      0.97      0.95      1000\n",
      "           9       0.95      0.93      0.94      1000\n",
      "\n",
      "    accuracy                           0.85     10000\n",
      "   macro avg       0.85      0.85      0.85     10000\n",
      "weighted avg       0.85      0.85      0.85     10000\n",
      "\n",
      "\n",
      "----------------------------------------\n",
      "Trying model SVM Sigmoid Kernel\n",
      "Best parameters set found on train set:\n",
      "\n",
      "{}\n",
      "\n",
      "Grid scores on train set:\n",
      "\n",
      "\n",
      "Detailed classification report for the best parameter set:\n",
      "\n",
      "The model is trained on the full train set.\n",
      "The scores are computed on the full test set.\n",
      "\n",
      "              precision    recall  f1-score   support\n",
      "\n",
      "           0       0.27      0.51      0.35      1000\n",
      "           1       0.99      0.59      0.74      1000\n",
      "           2       0.23      0.17      0.20      1000\n",
      "           3       0.27      0.58      0.37      1000\n",
      "           4       0.38      0.20      0.27      1000\n",
      "           5       0.52      0.53      0.52      1000\n",
      "           6       0.22      0.03      0.05      1000\n",
      "           7       0.87      0.65      0.74      1000\n",
      "           8       0.57      0.46      0.51      1000\n",
      "           9       0.43      0.60      0.50      1000\n",
      "\n",
      "    accuracy                           0.43     10000\n",
      "   macro avg       0.48      0.43      0.43     10000\n",
      "weighted avg       0.48      0.43      0.43     10000\n",
      "\n",
      "\n",
      "----------------------------------------\n",
      "Trying model SVM Linear Kernel\n",
      "Best parameters set found on train set:\n",
      "\n",
      "{}\n",
      "\n",
      "Grid scores on train set:\n",
      "\n",
      "\n",
      "Detailed classification report for the best parameter set:\n",
      "\n",
      "The model is trained on the full train set.\n",
      "The scores are computed on the full test set.\n",
      "\n",
      "              precision    recall  f1-score   support\n",
      "\n",
      "           0       0.73      0.82      0.77      1000\n",
      "           1       0.95      0.95      0.95      1000\n",
      "           2       0.69      0.76      0.72      1000\n",
      "           3       0.85      0.81      0.83      1000\n",
      "           4       0.75      0.70      0.72      1000\n",
      "           5       0.92      0.93      0.92      1000\n",
      "           6       0.64      0.56      0.60      1000\n",
      "           7       0.90      0.93      0.92      1000\n",
      "           8       0.94      0.94      0.94      1000\n",
      "           9       0.94      0.93      0.93      1000\n",
      "\n",
      "    accuracy                           0.83     10000\n",
      "   macro avg       0.83      0.83      0.83     10000\n",
      "weighted avg       0.83      0.83      0.83     10000\n",
      "\n",
      "\n",
      "Summary of results for f1\n",
      "Estimator\n",
      "SVM Polynomial Kernel\t - score: 0.74%\n",
      "SVM RBF Kernel\t - score: 0.86%\n",
      "SVM Sigmoid Kernel\t - score: 0.44%\n",
      "SVM Linear Kernel\t - score: 0.83%\n"
     ]
    }
   ],
   "source": [
    "evaluate_models(models)"
   ]
  },
  {
   "cell_type": "markdown",
   "id": "7842ea0c",
   "metadata": {},
   "source": [
    "As we can see the Linear and RBF kernels outperform the Sigmoid by a big margin. The Polynomial kernel, on the other hand isn't far off from them, meaning it's results could be better by ajusting the input parameters of the degree."
   ]
  },
  {
   "cell_type": "code",
   "execution_count": 36,
   "id": "b0333dd8",
   "metadata": {},
   "outputs": [],
   "source": [
    "models = {\n",
    "    'Polynomial': {'name': 'SVM Polynomial Kernel',\n",
    "           'estimator': SVC(), \n",
    "           'param': [{\n",
    "                   'kernel':[\"poly\"],\n",
    "                   'degree': [1,2,3,4,5,6,7,8,9,10],\n",
    "           }]\n",
    "          },\n",
    "    'RBF': {'name': 'SVM RBF Kernel',\n",
    "           'estimator': SVC(),\n",
    "           'param': [{\n",
    "                   'kernel':['rbf'],\n",
    "                   'C': [0.1,1.0,10.0,100.0],\n",
    "                    'gamma':[1.0,0.1,0.01,0.001],\n",
    "               \n",
    "           }]\n",
    "          },\n",
    "    'Linear':{'name': 'SVM Linear Kernel',\n",
    "           'estimator': SVC(), \n",
    "           'param': [{\n",
    "                    'kernel': ['linear'],\n",
    "                    'C': [0.1,1.0,10.0,100.0],\n",
    "           }]\n",
    "          },\n",
    "}\n",
    "\n",
    "model_lbls = ['Polynomial','RBF','Linear']\n",
    "scores = ['f1']"
   ]
  },
  {
   "cell_type": "code",
   "execution_count": 37,
   "id": "86ff0cd0",
   "metadata": {
    "scrolled": true
   },
   "outputs": [
    {
     "name": "stdout",
     "output_type": "stream",
     "text": [
      "========================================\n",
      "# Tuning hyper-parameters for f1\n",
      "\n",
      "----------------------------------------\n",
      "Trying model SVM Polynomial Kernel\n",
      "Best parameters set found on train set:\n",
      "\n",
      "{'degree': 2, 'kernel': 'poly'}\n",
      "\n",
      "Grid scores on train set:\n",
      "\n",
      "\n",
      "Detailed classification report for the best parameter set:\n",
      "\n",
      "The model is trained on the full train set.\n",
      "The scores are computed on the full test set.\n",
      "\n",
      "              precision    recall  f1-score   support\n",
      "\n",
      "           0       0.76      0.83      0.79      1000\n",
      "           1       0.99      0.95      0.97      1000\n",
      "           2       0.75      0.73      0.74      1000\n",
      "           3       0.86      0.85      0.85      1000\n",
      "           4       0.77      0.73      0.75      1000\n",
      "           5       0.86      0.94      0.90      1000\n",
      "           6       0.60      0.60      0.60      1000\n",
      "           7       0.90      0.90      0.90      1000\n",
      "           8       0.95      0.94      0.94      1000\n",
      "           9       0.95      0.92      0.94      1000\n",
      "\n",
      "    accuracy                           0.84     10000\n",
      "   macro avg       0.84      0.84      0.84     10000\n",
      "weighted avg       0.84      0.84      0.84     10000\n",
      "\n",
      "\n",
      "----------------------------------------\n",
      "Trying model SVM RBF Kernel\n",
      "Best parameters set found on train set:\n",
      "\n",
      "{'C': 10.0, 'gamma': 0.01, 'kernel': 'rbf'}\n",
      "\n",
      "Grid scores on train set:\n",
      "\n",
      "\n",
      "Detailed classification report for the best parameter set:\n",
      "\n",
      "The model is trained on the full train set.\n",
      "The scores are computed on the full test set.\n",
      "\n",
      "              precision    recall  f1-score   support\n",
      "\n",
      "           0       0.80      0.84      0.82      1000\n",
      "           1       0.98      0.96      0.97      1000\n",
      "           2       0.76      0.81      0.79      1000\n",
      "           3       0.89      0.88      0.88      1000\n",
      "           4       0.81      0.80      0.80      1000\n",
      "           5       0.95      0.95      0.95      1000\n",
      "           6       0.69      0.62      0.66      1000\n",
      "           7       0.92      0.95      0.93      1000\n",
      "           8       0.96      0.97      0.96      1000\n",
      "           9       0.97      0.94      0.96      1000\n",
      "\n",
      "    accuracy                           0.87     10000\n",
      "   macro avg       0.87      0.87      0.87     10000\n",
      "weighted avg       0.87      0.87      0.87     10000\n",
      "\n",
      "\n",
      "----------------------------------------\n",
      "Trying model SVM Linear Kernel\n",
      "Best parameters set found on train set:\n",
      "\n",
      "{'C': 0.1, 'kernel': 'linear'}\n",
      "\n",
      "Grid scores on train set:\n",
      "\n",
      "\n",
      "Detailed classification report for the best parameter set:\n",
      "\n",
      "The model is trained on the full train set.\n",
      "The scores are computed on the full test set.\n",
      "\n",
      "              precision    recall  f1-score   support\n",
      "\n",
      "           0       0.78      0.83      0.80      1000\n",
      "           1       0.98      0.96      0.97      1000\n",
      "           2       0.74      0.75      0.74      1000\n",
      "           3       0.84      0.86      0.85      1000\n",
      "           4       0.75      0.75      0.75      1000\n",
      "           5       0.94      0.93      0.93      1000\n",
      "           6       0.63      0.58      0.60      1000\n",
      "           7       0.90      0.94      0.92      1000\n",
      "           8       0.95      0.95      0.95      1000\n",
      "           9       0.95      0.93      0.94      1000\n",
      "\n",
      "    accuracy                           0.85     10000\n",
      "   macro avg       0.84      0.85      0.85     10000\n",
      "weighted avg       0.84      0.85      0.85     10000\n",
      "\n",
      "\n",
      "Summary of results for f1\n",
      "Estimator\n",
      "SVM Polynomial Kernel\t - score: 0.85%\n",
      "SVM RBF Kernel\t - score: 0.88%\n",
      "SVM Linear Kernel\t - score: 0.86%\n"
     ]
    }
   ],
   "source": [
    "evaluate_models(models)"
   ]
  },
  {
   "cell_type": "code",
   "execution_count": 38,
   "id": "66723b8a",
   "metadata": {},
   "outputs": [],
   "source": [
    "def plot_scores_by_parameter(model,ks,X_train,X_test,y_train,y_test,visualize=True):\n",
    "    train_scores = []\n",
    "    test_scores = []\n",
    "    \n",
    "    for k in ks:\n",
    "        clf = model(k).fit(X_train, y_train)\n",
    "        train_score = clf.score(X_train, y_train)\n",
    "        test_score = clf.score(X_test, y_test)\n",
    "        \n",
    "        train_scores.append(train_score)\n",
    "        test_scores.append(test_score)\n",
    "    if visualize:\n",
    "        plt.figure(figsize=(10, 6))\n",
    "        plt.plot(ks, train_scores, color='blue', label='train score')\n",
    "        plt.plot(ks, test_scores, color='green', label='test score')\n",
    "        plt.legend()\n",
    "    return train_scores,test_scores"
   ]
  },
  {
   "cell_type": "code",
   "execution_count": 39,
   "id": "f67eb9d7",
   "metadata": {},
   "outputs": [],
   "source": [
    "X_train, X_valid, y_train, y_valid = train_test_split(train_x, train_y, random_state=0)"
   ]
  },
  {
   "cell_type": "code",
   "execution_count": 45,
   "id": "ed7045e1",
   "metadata": {},
   "outputs": [],
   "source": [
    "poly_constructor = lambda a: SVC(kernel = \"poly\",degree = 2,gamma = a)"
   ]
  },
  {
   "cell_type": "code",
   "execution_count": 46,
   "id": "e2115017",
   "metadata": {},
   "outputs": [
    {
     "data": {
      "image/png": "[encoded data removed]",
      "text/plain": [
       "<Figure size 1000x600 with 1 Axes>"
      ]
     },
     "metadata": {},
     "output_type": "display_data"
    }
   ],
   "source": [
    "_=plot_scores_by_parameter(poly_constructor,[0.1,0.2,0.3,0.4,0.5,0.6,0.7,0.8,0.9,\"scale\",\"auto\"],X_train,X_valid,y_train,y_valid)"
   ]
  },
  {
   "cell_type": "code",
   "execution_count": 47,
   "id": "7284fccb",
   "metadata": {},
   "outputs": [],
   "source": [
    "poly_constructor = lambda a: SVC(kernel = \"poly\",degree = a,gamma = 'scale')"
   ]
  },
  {
   "cell_type": "code",
   "execution_count": 50,
   "id": "c64001fa",
   "metadata": {},
   "outputs": [
    {
     "data": {
      "image/png": "[encoded data removed]",
      "text/plain": [
       "<Figure size 1000x600 with 1 Axes>"
      ]
     },
     "metadata": {},
     "output_type": "display_data"
    }
   ],
   "source": [
    "_=plot_scores_by_parameter(poly_constructor,[1,2,4,6,8,10,12,14,16,18,20],X_train,X_valid,y_train,y_valid)"
   ]
  },
  {
   "cell_type": "code",
   "execution_count": 15,
   "id": "80dc8958",
   "metadata": {},
   "outputs": [],
   "source": [
    "from sklearn.model_selection import cross_val_score\n"
   ]
  },
  {
   "cell_type": "code",
   "execution_count": 12,
   "id": "e710d2ee",
   "metadata": {},
   "outputs": [],
   "source": [
    "scores = []\n",
    "\n",
    "clf = svm.SVC()\n",
    "    \n",
    "with warnings.catch_warnings(record=True):\n",
    "    score = cross_val_score(\n",
    "            clf,\n",
    "            train_x,\n",
    "            train_y, \n",
    "            cv=5\n",
    "        )\n",
    "    scores.append(score.mean())"
   ]
  },
  {
   "cell_type": "code",
   "execution_count": 15,
   "id": "3ffd2590",
   "metadata": {},
   "outputs": [],
   "source": [
    "ovo = svm.SVC(decision_function_shape='ovo')\n",
    "    \n",
    "with warnings.catch_warnings(record=True):\n",
    "    score = cross_val_score(\n",
    "            ovo,\n",
    "            train_x,\n",
    "            train_y, \n",
    "            cv=5\n",
    "        )\n",
    "    scores.append(score.mean())"
   ]
  },
  {
   "cell_type": "code",
   "execution_count": 14,
   "id": "9d795af4",
   "metadata": {},
   "outputs": [],
   "source": [
    "ovr = svm.SVC(decision_function_shape='ovr')\n",
    "    \n",
    "with warnings.catch_warnings(record=True):\n",
    "    score = cross_val_score(\n",
    "            ovr,\n",
    "            train_x,\n",
    "            train_y, \n",
    "            cv=5\n",
    "        )\n",
    "    scores.append(score.mean())"
   ]
  },
  {
   "cell_type": "code",
   "execution_count": 16,
   "id": "b3d95d5b",
   "metadata": {},
   "outputs": [],
   "source": [
    "linear = svm.LinearSVC()\n",
    "    \n",
    "with warnings.catch_warnings(record=True):\n",
    "    score = cross_val_score(\n",
    "            linear,\n",
    "            train_x,\n",
    "            train_y, \n",
    "            cv=5\n",
    "        )\n",
    "    scores.append(score.mean())"
   ]
  },
  {
   "cell_type": "markdown",
   "id": "4dd78839",
   "metadata": {},
   "source": [
    "LinearSVC also implements an alternative multi-class strategy, the so-called multi-class SVM formulated by Crammer and Singer, by using the option multi_class='crammer_singer'. In practice, one-vs-rest classification is usually preferred, since the results are mostly similar, but the runtime is significantly less. Using the Crammer and Singer formula is extremely slow for big datasets."
   ]
  },
  {
   "cell_type": "code",
   "execution_count": null,
   "id": "e99380ca",
   "metadata": {},
   "outputs": [],
   "source": [
    "fast_linear = svm.LinearSVC(multi_class='crammer_singer')\n",
    "    \n",
    "with warnings.catch_warnings(record=True):\n",
    "    score = cross_val_score(\n",
    "            fast_linear,\n",
    "            train_x,\n",
    "            train_y, \n",
    "            cv=5\n",
    "        )\n",
    "    scores.append(score.mean())"
   ]
  },
  {
   "cell_type": "code",
   "execution_count": 17,
   "id": "0327da72",
   "metadata": {},
   "outputs": [
    {
     "data": {
      "text/plain": [
       "[0.8535, 0.8535, 0.8535, 0.8019999999999999]"
      ]
     },
     "execution_count": 17,
     "metadata": {},
     "output_type": "execute_result"
    }
   ],
   "source": [
    "scores"
   ]
  },
  {
   "cell_type": "code",
   "execution_count": 23,
   "id": "50452979",
   "metadata": {},
   "outputs": [
    {
     "name": "stdout",
     "output_type": "stream",
     "text": [
      "0.1\n",
      "0.2\n",
      "0.30000000000000004\n",
      "0.4\n",
      "0.5\n",
      "0.6\n",
      "0.7\n",
      "0.7999999999999999\n",
      "0.9\n",
      "1.0\n"
     ]
    }
   ],
   "source": [
    "kernel_scores = []\n",
    "gammas = [i/10 + 0.1 for i in range(10)]\n",
    "cs = []\n",
    "\n",
    "for number in gammas:\n",
    "    clf = svm.SVC(kernel=\"rbf\",gamma=number,C=1.0)\n",
    "    \n",
    "    with warnings.catch_warnings(record=True):\n",
    "        score = cross_val_score(\n",
    "                clf,\n",
    "                train_x,\n",
    "                train_y, \n",
    "                cv=5\n",
    "            )\n",
    "        kernel_scores.append(score.mean())"
   ]
  },
  {
   "cell_type": "code",
   "execution_count": 24,
   "id": "9347bb00",
   "metadata": {
    "scrolled": true
   },
   "outputs": [
    {
     "data": {
      "text/plain": [
       "[0.7671666666666667,\n",
       " 0.5416666666666666,\n",
       " 0.37700000000000006,\n",
       " 0.25,\n",
       " 0.195,\n",
       " 0.16266666666666665,\n",
       " 0.14583333333333334,\n",
       " 0.13216666666666665,\n",
       " 0.12250000000000001,\n",
       " 0.11516666666666667]"
      ]
     },
     "execution_count": 24,
     "metadata": {},
     "output_type": "execute_result"
    }
   ],
   "source": [
    "kernel_scores"
   ]
  },
  {
   "cell_type": "code",
   "execution_count": 16,
   "id": "63f12bc8",
   "metadata": {},
   "outputs": [],
   "source": [
    "kernel_scores = []\n",
    "cs = [1/10*(i+1)  for i in range(10)]\n",
    "\n",
    "for number in cs:\n",
    "    clf = svm.SVC(kernel=\"rbf\",gamma='auto',C=number)\n",
    "    \n",
    "    with warnings.catch_warnings(record=True):\n",
    "        score = cross_val_score(\n",
    "                clf,\n",
    "                train_x,\n",
    "                train_y, \n",
    "                cv=5\n",
    "            )\n",
    "        kernel_scores.append(score.mean())"
   ]
  },
  {
   "cell_type": "code",
   "execution_count": 17,
   "id": "b5586677",
   "metadata": {},
   "outputs": [
    {
     "data": {
      "text/plain": [
       "[0.7130000000000001,\n",
       " 0.7435,\n",
       " 0.76,\n",
       " 0.7695000000000001,\n",
       " 0.7758333333333334,\n",
       " 0.7796666666666667,\n",
       " 0.7838333333333333,\n",
       " 0.7886666666666666,\n",
       " 0.7925,\n",
       " 0.7954999999999999]"
      ]
     },
     "execution_count": 17,
     "metadata": {},
     "output_type": "execute_result"
    }
   ],
   "source": [
    "kernel_scores"
   ]
  },
  {
   "cell_type": "code",
   "execution_count": 26,
   "id": "ed641c10",
   "metadata": {},
   "outputs": [],
   "source": [
    "auto_score = []\n",
    "\n",
    "clf = svm.SVC(kernel=\"rbf\",gamma='auto',C=1.0)\n",
    "\n",
    "with warnings.catch_warnings(record=True):\n",
    "    score = cross_val_score(\n",
    "        clf,\n",
    "        train_x,\n",
    "        train_y, \n",
    "        cv=5\n",
    "    )\n",
    "    auto_score.append(score.mean())"
   ]
  },
  {
   "cell_type": "code",
   "execution_count": 14,
   "id": "46e3bc6d",
   "metadata": {},
   "outputs": [],
   "source": [
    "model_lbls = [\n",
    "              'lin', \n",
    "            ]\n",
    "\n",
    "models = {\n",
    "    'lin': {'name': 'Linear       ',\n",
    "           'estimator': svm.LinearSVC(), \n",
    "           'param': [{}],\n",
    "          }\n",
    "}\n",
    "\n",
    "scores = ['precision', 'recall']"
   ]
  },
  {
   "cell_type": "code",
   "execution_count": 10,
   "id": "9010e575",
   "metadata": {},
   "outputs": [],
   "source": [
    "def evaluate_models(models):\n",
    "    results_short = {}\n",
    "    for score in scores:\n",
    "        print('='*40)\n",
    "        print(\"# Tuning hyper-parameters for %s\" % score)\n",
    "        print()\n",
    "\n",
    "        #'%s_macro' % score ## is a string formatting expression\n",
    "        # the parameter after % is substituted in the string placeholder %s\n",
    "        for m in model_lbls:\n",
    "            print('-'*40)\n",
    "            print(\"Trying model {}\".format(models[m]['name']))\n",
    "            clf = GridSearchCV(models[m]['estimator'], models[m]['param'], cv=5,\n",
    "                               scoring='%s_macro' % score, \n",
    "    #                            iid = False, \n",
    "                               return_train_score = False,\n",
    "                               n_jobs = 2, # this allows using multi-cores\n",
    "                               )\n",
    "            clf.fit(train_x, train_y)\n",
    "            print_results(clf)\n",
    "            results_short[m] = clf.best_score_\n",
    "        print(\"Summary of results for {}\".format(score))\n",
    "        print(\"Estimator\")\n",
    "        for m in results_short.keys():\n",
    "            print(\"{}\\t - score: {:4.2}%\".format(models[m]['name'], results_short[m]))"
   ]
  },
  {
   "cell_type": "code",
   "execution_count": null,
   "id": "b2a7138e",
   "metadata": {},
   "outputs": [
    {
     "name": "stdout",
     "output_type": "stream",
     "text": [
      "========================================\n",
      "# Tuning hyper-parameters for precision\n",
      "\n",
      "----------------------------------------\n",
      "Trying model Linear       \n"
     ]
    }
   ],
   "source": [
    "evaluate_models(models)"
   ]
  },
  {
   "cell_type": "code",
   "execution_count": 27,
   "id": "ff9db7ed",
   "metadata": {},
   "outputs": [
    {
     "data": {
      "text/plain": [
       "[0.8053333333333332]"
      ]
     },
     "execution_count": 27,
     "metadata": {},
     "output_type": "execute_result"
    }
   ],
   "source": [
    "auto_score"
   ]
  },
  {
   "cell_type": "markdown",
   "id": "ea56b777",
   "metadata": {},
   "source": [
    "Стигаме до заключението, че гама трябва да е малко число близо до 0."
   ]
  },
  {
   "cell_type": "code",
   "execution_count": 2,
   "id": "03f5ee20",
   "metadata": {},
   "outputs": [],
   "source": [
    "from sklearn.model_selection import StratifiedShuffleSplit\n",
    "from sklearn.model_selection import GridSearchCV"
   ]
  },
  {
   "cell_type": "code",
   "execution_count": 41,
   "id": "46f82f68",
   "metadata": {},
   "outputs": [],
   "source": [
    "from sklearn.preprocessing import StandardScaler"
   ]
  },
  {
   "cell_type": "code",
   "execution_count": 42,
   "id": "625abd63",
   "metadata": {},
   "outputs": [],
   "source": [
    "scaler = StandardScaler()\n",
    "train_x = scaler.fit_transform(train_x)"
   ]
  },
  {
   "cell_type": "code",
   "execution_count": 13,
   "id": "ac451555",
   "metadata": {},
   "outputs": [
    {
     "name": "stdout",
     "output_type": "stream",
     "text": [
      "{'C': 0.1, 'kernel': 'linear'}\n",
      "0.837099606781314\n"
     ]
    }
   ],
   "source": [
    "grid = [\n",
    "#     {'kernel' : ['rbf'],\n",
    "#     'C' : [0.001, 0.01, 0.1, 1 ,10],\n",
    "#     'gamma' : [0.001, 0.01, 0.1, 1]},\n",
    "    {'kernel' : ['linear'],\n",
    "    'C' : [0.001, 0.01, 0.1, 1 ,10],\n",
    "    }\n",
    "]\n",
    "\n",
    "search1 = GridSearchCV(SVC(),grid, cv=3)\n",
    "search1.fit(test_x, test_y)\n",
    "\n",
    "print(search1.best_params_)\n",
    "print(search1.best_score_)\n"
   ]
  },
  {
   "cell_type": "code",
   "execution_count": 12,
   "id": "392daa7b",
   "metadata": {},
   "outputs": [
    {
     "name": "stdout",
     "output_type": "stream",
     "text": [
      "{'C': 100, 'gamma': 'auto', 'kernel': 'rbf'}\n",
      "0.8474\n"
     ]
    }
   ],
   "source": [
    "grid = [\n",
    "    {'kernel' : ['rbf'],\n",
    "    'C' : [0.001, 0.01, 0.1, 1 ,10,100],\n",
    "    'gamma' : [\"auto\"]}\n",
    "]\n",
    "\n",
    "search = GridSearchCV(SVC(),grid, cv=5)\n",
    "search.fit(test_x, test_y)\n",
    "\n",
    "print(search.best_params_)\n",
    "print(search.best_score_)"
   ]
  },
  {
   "cell_type": "code",
   "execution_count": null,
   "id": "ba9d26f4",
   "metadata": {},
   "outputs": [],
   "source": [
    "auto_score = []\n",
    "\n",
    "clf = svm.SVC(kernel=\"rbf\",gamma='auto',C=1.0)\n",
    "\n",
    "with warnings.catch_warnings(record=True):\n",
    "    score = cross_val_score(\n",
    "        clf,\n",
    "        train_x,\n",
    "        train_y, \n",
    "        cv=5\n",
    "    )\n",
    "    auto_score.append(score.mean())"
   ]
  },
  {
   "cell_type": "code",
   "execution_count": 45,
   "id": "abd1b676",
   "metadata": {},
   "outputs": [],
   "source": [
    "from sklearn.metrics import accuracy_score\n"
   ]
  },
  {
   "cell_type": "code",
   "execution_count": 46,
   "id": "e2ed584a",
   "metadata": {},
   "outputs": [],
   "source": [
    "prediction = clf.predict(test_x)"
   ]
  },
  {
   "cell_type": "code",
   "execution_count": 48,
   "id": "84f69171",
   "metadata": {},
   "outputs": [
    {
     "data": {
      "text/plain": [
       "0.8416"
      ]
     },
     "execution_count": 48,
     "metadata": {},
     "output_type": "execute_result"
    }
   ],
   "source": [
    "acc = accuracy_score(test_y, prediction)\n",
    "acc"
   ]
  }
 ],
 "metadata": {
  "kernelspec": {
   "display_name": "Python 3 (ipykernel)",
   "language": "python",
   "name": "python3"
  },
  "language_info": {
   "codemirror_mode": {
    "name": "ipython",
    "version": 3
   },
   "file_extension": ".py",
   "mimetype": "text/x-python",
   "name": "python",
   "nbconvert_exporter": "python",
   "pygments_lexer": "ipython3",
   "version": "3.9.13"
  }
 },
 "nbformat": 4,
 "nbformat_minor": 5
}

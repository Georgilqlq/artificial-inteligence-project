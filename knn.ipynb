{
 "cells": [
  {
   "cell_type": "code",
   "execution_count": 7,
   "id": "fa7c9d36",
   "metadata": {},
   "outputs": [
    {
     "name": "stdout",
     "output_type": "stream",
     "text": [
      "Requirement already satisfied: scikit-learn in c:\\users\\nikip\\anaconda3\\lib\\site-packages (1.0.2)\n",
      "Requirement already satisfied: numpy>=1.14.6 in c:\\users\\nikip\\anaconda3\\lib\\site-packages (from scikit-learn) (1.21.5)\n",
      "Requirement already satisfied: joblib>=0.11 in c:\\users\\nikip\\anaconda3\\lib\\site-packages (from scikit-learn) (1.1.0)\n",
      "Requirement already satisfied: scipy>=1.1.0 in c:\\users\\nikip\\anaconda3\\lib\\site-packages (from scikit-learn) (1.9.1)\n",
      "Requirement already satisfied: threadpoolctl>=2.0.0 in c:\\users\\nikip\\anaconda3\\lib\\site-packages (from scikit-learn) (2.2.0)\n"
     ]
    }
   ],
   "source": [
    "!pip install scikit-learn\n",
    "!pip install torchvision"
   ]
  },
  {
   "cell_type": "code",
   "execution_count": 5,
   "id": "561f6cb8",
   "metadata": {},
   "outputs": [],
   "source": [
    "import torch\n",
    "import torchvision"
   ]
  },
  {
   "cell_type": "code",
   "execution_count": 26,
   "id": "327296aa",
   "metadata": {},
   "outputs": [],
   "source": [
    "# batch_size_train = 1000\n",
    "# batch_size_test = 10000\n",
    "k = 10"
   ]
  },
  {
   "cell_type": "code",
   "execution_count": 92,
   "id": "199367c5",
   "metadata": {},
   "outputs": [],
   "source": [
    "transformer = torchvision.transforms.Compose([torchvision.transforms.ToTensor()])\n",
    "\n",
    "# train_loader = torch.utils.data.DataLoader(\n",
    "#   torchvision.datasets.MNIST('./files/', train=True, download=True,\n",
    "#                              transform=transformer),\n",
    "#   batch_size=batch_size_train, shuffle=True)\n",
    "\n",
    "# test_loader = torch.utils.data.DataLoader(\n",
    "#   torchvision.datasets.MNIST('/files/', train=False, download=True,\n",
    "#                              transform=transformer),\n",
    "#   batch_size=batch_size_test, shuffle=True)\n",
    "\n",
    "# train = enumerate(train_loader)\n",
    "# batch_idx, (train_data, train_targets) = next(train)\n",
    "\n",
    "# test = enumerate(test_loader)\n",
    "# batch_idx, (test_data, test_targets) = next(test)\n",
    "\n",
    "dataset = torchvision.datasets.MNIST('./files/', download=True,\n",
    "                             transform=transformer)\n",
    "length = len(dataset)\n",
    "\n",
    "loader = torch.utils.data.DataLoader(dataset,\n",
    "      batch_size=length, shuffle=True)\n",
    "\n",
    "_, (data, targets) = next(enumerate(loader))\n",
    "\n",
    "flattened_data = torch.flatten(data, start_dim=1, end_dim=3)"
   ]
  },
  {
   "cell_type": "code",
   "execution_count": 98,
   "id": "f1afaed3",
   "metadata": {},
   "outputs": [],
   "source": [
    "from sklearn.neighbors import KNeighborsClassifier\n",
    "knn = KNeighborsClassifier(n_neighbors=k)"
   ]
  },
  {
   "cell_type": "code",
   "execution_count": null,
   "id": "5e9e2298",
   "metadata": {},
   "outputs": [],
   "source": []
  },
  {
   "cell_type": "code",
   "execution_count": 104,
   "id": "4551ed85",
   "metadata": {},
   "outputs": [
    {
     "name": "stderr",
     "output_type": "stream",
     "text": [
      "C:\\Users\\nikip\\anaconda3\\lib\\site-packages\\sklearn\\neighbors\\_classification.py:228: FutureWarning: Unlike other reduction functions (e.g. `skew`, `kurtosis`), the default behavior of `mode` typically preserves the axis it acts along. In SciPy 1.11.0, this behavior will change: the default value of `keepdims` will become False, the `axis` over which the statistic is taken will be eliminated, and the value None will no longer be accepted. Set `keepdims` to True or False to avoid this warning.\n",
      "  mode, _ = stats.mode(_y[neigh_ind, k], axis=1)\n"
     ]
    },
    {
     "data": {
      "text/plain": [
       "(6, tensor(6))"
      ]
     },
     "execution_count": 104,
     "metadata": {},
     "output_type": "execute_result"
    }
   ],
   "source": [
    "# data = torch.flatten(train_data, start_dim=1, end_dim=3)\n",
    "\n",
    "successes = 0\n",
    "attempts = 0\n",
    "\n",
    "#cross_validation:\n",
    "\n",
    "# test_length = length//10\n",
    "# i = 0\n",
    "\n",
    "# while i < length:\n",
    "#     learn_data = torch.cat((flattened_data[0:i], flattened_data[i + test_length:length]))\n",
    "#     learn_targets = torch.cat((targets[0:i], targets[i + test_length:length]))\n",
    "    \n",
    "#     knn.fit(learn_data, learn_targets)\n",
    "    \n",
    "#     result = knn.predict(torch.flatten(data[i:i+test_length], start_dim=1, end_dim=3))\n",
    "#     test_targets = targets[i:i+test_length]\n",
    "    \n",
    "#     for j in range(len(result)):\n",
    "#         if result[j] == test_targets[j]:\n",
    "#             successes += 1\n",
    "#         attempts += 1\n",
    "#     i += test_length\n",
    "    \n",
    "# example: testing \n",
    "knn.fit(flattened_data[0:50000], targets[0:50000])\n",
    "\n",
    "test_result = knn.predict(flattened_data[50000:60000])\n",
    "test_targets = targets[50000:60000]\n",
    "\n",
    "for j in range(len(result)):\n",
    "    if test_result[j] == test_targets[j]:\n",
    "        successes += 1\n",
    "    attempts += 1\n",
    "\n",
    "successes/attempts\n"
   ]
  },
  {
   "cell_type": "code",
   "execution_count": null,
   "id": "f792e306",
   "metadata": {},
   "outputs": [],
   "source": []
  }
 ],
 "metadata": {
  "kernelspec": {
   "display_name": "Python 3 (ipykernel)",
   "language": "python",
   "name": "python3"
  },
  "language_info": {
   "codemirror_mode": {
    "name": "ipython",
    "version": 3
   },
   "file_extension": ".py",
   "mimetype": "text/x-python",
   "name": "python",
   "nbconvert_exporter": "python",
   "pygments_lexer": "ipython3",
   "version": "3.9.13"
  }
 },
 "nbformat": 4,
 "nbformat_minor": 5
}

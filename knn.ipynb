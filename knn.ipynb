{
 "cells": [
  {
   "cell_type": "code",
   "execution_count": 1,
   "id": "fa7c9d36",
   "metadata": {},
   "outputs": [
    {
     "name": "stdout",
     "output_type": "stream",
     "text": [
      "Requirement already satisfied: scikit-learn in c:\\users\\nikip\\anaconda3\\lib\\site-packages (1.0.2)\n",
      "Requirement already satisfied: numpy>=1.14.6 in c:\\users\\nikip\\anaconda3\\lib\\site-packages (from scikit-learn) (1.21.5)\n",
      "Requirement already satisfied: threadpoolctl>=2.0.0 in c:\\users\\nikip\\anaconda3\\lib\\site-packages (from scikit-learn) (2.2.0)\n",
      "Requirement already satisfied: joblib>=0.11 in c:\\users\\nikip\\anaconda3\\lib\\site-packages (from scikit-learn) (1.1.0)\n",
      "Requirement already satisfied: scipy>=1.1.0 in c:\\users\\nikip\\anaconda3\\lib\\site-packages (from scikit-learn) (1.9.1)\n",
      "Requirement already satisfied: torchvision in c:\\users\\nikip\\anaconda3\\lib\\site-packages (0.14.0)\n",
      "Requirement already satisfied: typing-extensions in c:\\users\\nikip\\anaconda3\\lib\\site-packages (from torchvision) (4.3.0)\n",
      "Requirement already satisfied: requests in c:\\users\\nikip\\anaconda3\\lib\\site-packages (from torchvision) (2.28.1)\n",
      "Requirement already satisfied: pillow!=8.3.*,>=5.3.0 in c:\\users\\nikip\\anaconda3\\lib\\site-packages (from torchvision) (9.2.0)\n",
      "Requirement already satisfied: torch==1.13.0 in c:\\users\\nikip\\anaconda3\\lib\\site-packages (from torchvision) (1.13.0)\n",
      "Requirement already satisfied: numpy in c:\\users\\nikip\\anaconda3\\lib\\site-packages (from torchvision) (1.21.5)\n",
      "Requirement already satisfied: urllib3<1.27,>=1.21.1 in c:\\users\\nikip\\anaconda3\\lib\\site-packages (from requests->torchvision) (1.26.11)\n",
      "Requirement already satisfied: certifi>=2017.4.17 in c:\\users\\nikip\\anaconda3\\lib\\site-packages (from requests->torchvision) (2022.9.14)\n",
      "Requirement already satisfied: idna<4,>=2.5 in c:\\users\\nikip\\anaconda3\\lib\\site-packages (from requests->torchvision) (3.3)\n",
      "Requirement already satisfied: charset-normalizer<3,>=2 in c:\\users\\nikip\\anaconda3\\lib\\site-packages (from requests->torchvision) (2.0.4)\n"
     ]
    }
   ],
   "source": [
    "!pip install scikit-learn\n",
    "!pip install torchvision"
   ]
  },
  {
   "cell_type": "code",
   "execution_count": 1,
   "id": "561f6cb8",
   "metadata": {},
   "outputs": [],
   "source": [
    "import torch\n",
    "import torchvision\n",
    "import warnings\n",
    "from torchvision import transforms"
   ]
  },
  {
   "cell_type": "code",
   "execution_count": 2,
   "id": "327296aa",
   "metadata": {},
   "outputs": [],
   "source": [
    "transformer = torchvision.transforms.Compose([torchvision.transforms.ToTensor(),\n",
    "                                              transforms.Lambda(lambda x: torch.flatten(x))])\n",
    "\n",
    "data_set = torchvision.datasets.FashionMNIST('./files/fashion-mnist/', train=True, download=True,\n",
    "                             transform=transformer)\n",
    "batch_size=len(data_set)//5"
   ]
  },
  {
   "cell_type": "code",
   "execution_count": 3,
   "id": "199367c5",
   "metadata": {},
   "outputs": [],
   "source": [
    "loader = torch.utils.data.DataLoader(\n",
    "  data_set,\n",
    "  batch_size=batch_size, shuffle=True)\n",
    "\n",
    "train = enumerate(loader)\n",
    "_, (data, targets) = next(train)"
   ]
  },
  {
   "cell_type": "code",
   "execution_count": 4,
   "id": "ead1fb67",
   "metadata": {},
   "outputs": [],
   "source": [
    "from sklearn.model_selection import cross_val_score"
   ]
  },
  {
   "cell_type": "markdown",
   "id": "12eaf385",
   "metadata": {},
   "source": [
    "## KNN"
   ]
  },
  {
   "cell_type": "code",
   "execution_count": 5,
   "id": "9cc9c989",
   "metadata": {},
   "outputs": [],
   "source": [
    "from sklearn.neighbors import KNeighborsClassifier"
   ]
  },
  {
   "cell_type": "markdown",
   "id": "ebab4997",
   "metadata": {},
   "source": [
    "Testing knn for different k"
   ]
  },
  {
   "cell_type": "code",
   "execution_count": 5,
   "id": "e1b25607",
   "metadata": {},
   "outputs": [
    {
     "data": {
      "text/plain": [
       "0.8285833333333332"
      ]
     },
     "execution_count": 5,
     "metadata": {},
     "output_type": "execute_result"
    }
   ],
   "source": [
    "ks = [i+1 for i in range(15)]\n",
    "scores = []\n",
    "\n",
    "for k in ks:\n",
    "    knn = KNeighborsClassifier(n_neighbors=k)\n",
    "    \n",
    "    with warnings.catch_warnings(record=True):\n",
    "        score = cross_val_score(\n",
    "            knn,\n",
    "            data,\n",
    "            targets, \n",
    "            cv=5\n",
    "        )\n",
    "    scores.append(score.mean())\n",
    "max(scores)"
   ]
  },
  {
   "cell_type": "markdown",
   "id": "0cd47dfe",
   "metadata": {},
   "source": [
    "We get around 82.8% accuracy. Because KNN is the simplest algorithm this will be the baseline accuracy which we will try to improve."
   ]
  },
  {
   "cell_type": "code",
   "execution_count": 6,
   "id": "f792e306",
   "metadata": {
    "scrolled": true
   },
   "outputs": [
    {
     "data": {
      "image/png": "[encoded data removed]",
      "text/plain": [
       "<Figure size 200x200 with 1 Axes>"
      ]
     },
     "metadata": {},
     "output_type": "display_data"
    }
   ],
   "source": [
    "import matplotlib.pyplot as plt\n",
    "import numpy as np\n",
    "plt.style.use('_mpl-gallery')\n",
    "\n",
    "# plot\n",
    "fig, ax = plt.subplots()\n",
    "\n",
    "ax.bar(ks, scores)\n",
    "\n",
    "ax.set(ylim=(0, 1))\n",
    "\n",
    "plt.show()"
   ]
  },
  {
   "cell_type": "markdown",
   "id": "33bf3e5b",
   "metadata": {},
   "source": [
    "As we can see on the graph, the highest accuracy score is observed for k = 4 or k = 6 on this data."
   ]
  },
  {
   "cell_type": "markdown",
   "id": "6816d622",
   "metadata": {},
   "source": [
    "Some tests of other algorithms:"
   ]
  },
  {
   "cell_type": "markdown",
   "id": "aaeec5a6",
   "metadata": {},
   "source": [
    "## Logistic Regression"
   ]
  },
  {
   "cell_type": "code",
   "execution_count": 6,
   "id": "4ee2291f",
   "metadata": {},
   "outputs": [],
   "source": [
    "from sklearn.linear_model import LogisticRegression\n",
    "from sklearn.metrics import classification_report,accuracy_score,f1_score"
   ]
  },
  {
   "cell_type": "markdown",
   "id": "228ca0a1",
   "metadata": {},
   "source": [
    "Logistic regression with L2 penalty regularization and lbfgs solver algorithm:"
   ]
  },
  {
   "cell_type": "code",
   "execution_count": 10,
   "id": "96c3371f",
   "metadata": {},
   "outputs": [
    {
     "data": {
      "text/plain": [
       "0.8355"
      ]
     },
     "execution_count": 10,
     "metadata": {},
     "output_type": "execute_result"
    }
   ],
   "source": [
    "lr = LogisticRegression(warm_start=True, max_iter = 200, random_state=0, n_jobs=-1)\n",
    "score = cross_val_score(\n",
    "    lr,\n",
    "    data,\n",
    "    targets, \n",
    "    cv=5\n",
    ")\n",
    "score.mean()"
   ]
  },
  {
   "cell_type": "markdown",
   "id": "9f2a0188",
   "metadata": {},
   "source": [
    "It beats knn score out of the box."
   ]
  },
  {
   "cell_type": "markdown",
   "id": "fb98ea3b",
   "metadata": {},
   "source": [
    "Different solvers:"
   ]
  },
  {
   "cell_type": "code",
   "execution_count": null,
   "id": "a1925bd8",
   "metadata": {},
   "outputs": [],
   "source": [
    "# def classification_report_with_accuracy_score(y_true, y_pred):\n",
    "#     print classification_report(y_true, y_pred) # print classification report\n",
    "#     return accuracy_score(y_true, y_pred) # return accuracy score\n",
    "\n",
    "# nested_score = cross_val_score(lr, data, targets, cv=5, \\\n",
    "#                scoring=make_scorer(classification_report_with_accuracy_score))\n",
    "# print nested_score \n",
    "\n",
    "# lr.fit(data, targets)\n",
    "# lr_pred = lr.predict(targets)\n",
    "\n",
    "# classification_report(test_y, lr_pred, labels=range(0,10))"
   ]
  },
  {
   "cell_type": "markdown",
   "id": "5a5af7d7",
   "metadata": {},
   "source": [
    "Testing with newton-cholesky solver:"
   ]
  },
  {
   "cell_type": "code",
   "execution_count": 7,
   "id": "a25e84b7",
   "metadata": {},
   "outputs": [
    {
     "data": {
      "text/plain": [
       "0.8353333333333335"
      ]
     },
     "execution_count": 7,
     "metadata": {},
     "output_type": "execute_result"
    }
   ],
   "source": [
    "lr = LogisticRegression(warm_start=True, solver='newton-cholesky', max_iter = 200, random_state=0, n_jobs=-1)\n",
    "score = cross_val_score(\n",
    "    lr,\n",
    "    data,\n",
    "    targets, \n",
    "    cv=5\n",
    ")\n",
    "score.mean()"
   ]
  },
  {
   "cell_type": "markdown",
   "id": "ebc2e079",
   "metadata": {},
   "source": [
    "Testing with SAGA solver and elasticnet penalties:"
   ]
  },
  {
   "cell_type": "code",
   "execution_count": 12,
   "id": "e9f7ba57",
   "metadata": {},
   "outputs": [
    {
     "data": {
      "text/plain": [
       "0.8408333333333333"
      ]
     },
     "execution_count": 12,
     "metadata": {},
     "output_type": "execute_result"
    }
   ],
   "source": [
    "lr = LogisticRegression(solver='saga', n_jobs=-1)\n",
    "score = cross_val_score(\n",
    "    lr,\n",
    "    data,\n",
    "    targets, \n",
    "    cv=5\n",
    ")\n",
    "score.mean()"
   ]
  },
  {
   "cell_type": "markdown",
   "id": "5b852ec2",
   "metadata": {},
   "source": [
    "## Logistic regression with bagging and boosting"
   ]
  },
  {
   "cell_type": "code",
   "execution_count": 13,
   "id": "cb21cbf5",
   "metadata": {},
   "outputs": [],
   "source": [
    "from sklearn.ensemble import BaggingClassifier"
   ]
  },
  {
   "cell_type": "code",
   "execution_count": 16,
   "id": "139d0b38",
   "metadata": {},
   "outputs": [
    {
     "data": {
      "text/plain": [
       "0.8396666666666667"
      ]
     },
     "execution_count": 16,
     "metadata": {},
     "output_type": "execute_result"
    }
   ],
   "source": [
    "bg = BaggingClassifier(estimator=LogisticRegression(solver='saga', n_jobs=-1), n_estimators=10, random_state=0, n_jobs=-1)\n",
    "score = cross_val_score(\n",
    "    bg,\n",
    "    data,\n",
    "    targets, \n",
    "    cv=3\n",
    ")\n",
    "score.mean()"
   ]
  },
  {
   "cell_type": "markdown",
   "id": "52048244",
   "metadata": {},
   "source": [
    "Testing with bootstrap features. On theory this will make some feature selection."
   ]
  },
  {
   "cell_type": "code",
   "execution_count": 25,
   "id": "919c507d",
   "metadata": {},
   "outputs": [
    {
     "data": {
      "text/plain": [
       "0.842"
      ]
     },
     "execution_count": 25,
     "metadata": {},
     "output_type": "execute_result"
    }
   ],
   "source": [
    "bg = BaggingClassifier(estimator=LogisticRegression(solver='saga', n_jobs=-1), n_estimators=10, random_state=0, n_jobs=-1, bootstrap_features= True)\n",
    "score = cross_val_score(\n",
    "    bg,\n",
    "    data,\n",
    "    targets, \n",
    "    cv=3\n",
    ")\n",
    "score.mean()"
   ]
  },
  {
   "cell_type": "code",
   "execution_count": 15,
   "id": "21641dad",
   "metadata": {},
   "outputs": [],
   "source": [
    "from sklearn.ensemble import AdaBoostClassifier"
   ]
  },
  {
   "cell_type": "code",
   "execution_count": 18,
   "id": "899ae021",
   "metadata": {},
   "outputs": [
    {
     "data": {
      "text/plain": [
       "0.8396666666666667"
      ]
     },
     "execution_count": 18,
     "metadata": {},
     "output_type": "execute_result"
    }
   ],
   "source": [
    "ab = AdaBoostClassifier(estimator=LogisticRegression(solver='saga', n_jobs=-1), n_estimators=10, random_state=0)\n",
    "score = cross_val_score(\n",
    "    bg,\n",
    "    data,\n",
    "    targets, \n",
    "    cv=3\n",
    ")\n",
    "score.mean()"
   ]
  },
  {
   "cell_type": "markdown",
   "id": "8033ffa8",
   "metadata": {},
   "source": [
    "As we can see there is no improvement.\n",
    "We will try to preprocess the data."
   ]
  },
  {
   "cell_type": "code",
   "execution_count": 19,
   "id": "ec6c27d4",
   "metadata": {},
   "outputs": [],
   "source": [
    "from sklearn.preprocessing import RobustScaler"
   ]
  },
  {
   "cell_type": "markdown",
   "id": "e9bf0a60",
   "metadata": {},
   "source": [
    "The robust scaler scales the data according to the quantile range. It is usefull for data with many outliers"
   ]
  },
  {
   "cell_type": "code",
   "execution_count": 20,
   "id": "8bacb9f9",
   "metadata": {},
   "outputs": [],
   "source": [
    "transformer = RobustScaler().fit(data)\n",
    "transformed_data = transformer.transform(data)"
   ]
  },
  {
   "cell_type": "code",
   "execution_count": 22,
   "id": "c32f21c1",
   "metadata": {},
   "outputs": [
    {
     "data": {
      "text/plain": [
       "0.8007500000000001"
      ]
     },
     "execution_count": 22,
     "metadata": {},
     "output_type": "execute_result"
    }
   ],
   "source": [
    "lr = LogisticRegression(solver='saga', n_jobs=-1)\n",
    "score = cross_val_score(\n",
    "    lr,\n",
    "    transformed_data,\n",
    "    targets, \n",
    "    cv=5\n",
    ")\n",
    "score.mean()"
   ]
  },
  {
   "cell_type": "markdown",
   "id": "34e00adb",
   "metadata": {},
   "source": [
    "But the results show that there is no improvement."
   ]
  },
  {
   "cell_type": "code",
   "execution_count": null,
   "id": "293c057e",
   "metadata": {},
   "outputs": [],
   "source": []
  }
 ],
 "metadata": {
  "kernelspec": {
   "display_name": "Python 3 (ipykernel)",
   "language": "python",
   "name": "python3"
  },
  "language_info": {
   "codemirror_mode": {
    "name": "ipython",
    "version": 3
   },
   "file_extension": ".py",
   "mimetype": "text/x-python",
   "name": "python",
   "nbconvert_exporter": "python",
   "pygments_lexer": "ipython3",
   "version": "3.9.16"
  }
 },
 "nbformat": 4,
 "nbformat_minor": 5
}

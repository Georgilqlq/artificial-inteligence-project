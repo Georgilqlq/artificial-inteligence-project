{
 "cells": [
  {
   "cell_type": "code",
   "execution_count": 1,
   "id": "fa7c9d36",
   "metadata": {},
   "outputs": [
    {
     "name": "stdout",
     "output_type": "stream",
     "text": [
      "Requirement already satisfied: scikit-learn in c:\\users\\nikip\\anaconda3\\lib\\site-packages (1.0.2)\n",
      "Requirement already satisfied: numpy>=1.14.6 in c:\\users\\nikip\\anaconda3\\lib\\site-packages (from scikit-learn) (1.21.5)\n",
      "Requirement already satisfied: threadpoolctl>=2.0.0 in c:\\users\\nikip\\anaconda3\\lib\\site-packages (from scikit-learn) (2.2.0)\n",
      "Requirement already satisfied: joblib>=0.11 in c:\\users\\nikip\\anaconda3\\lib\\site-packages (from scikit-learn) (1.1.0)\n",
      "Requirement already satisfied: scipy>=1.1.0 in c:\\users\\nikip\\anaconda3\\lib\\site-packages (from scikit-learn) (1.9.1)\n",
      "Requirement already satisfied: torchvision in c:\\users\\nikip\\anaconda3\\lib\\site-packages (0.14.0)\n",
      "Requirement already satisfied: typing-extensions in c:\\users\\nikip\\anaconda3\\lib\\site-packages (from torchvision) (4.3.0)\n",
      "Requirement already satisfied: requests in c:\\users\\nikip\\anaconda3\\lib\\site-packages (from torchvision) (2.28.1)\n",
      "Requirement already satisfied: pillow!=8.3.*,>=5.3.0 in c:\\users\\nikip\\anaconda3\\lib\\site-packages (from torchvision) (9.2.0)\n",
      "Requirement already satisfied: torch==1.13.0 in c:\\users\\nikip\\anaconda3\\lib\\site-packages (from torchvision) (1.13.0)\n",
      "Requirement already satisfied: numpy in c:\\users\\nikip\\anaconda3\\lib\\site-packages (from torchvision) (1.21.5)\n",
      "Requirement already satisfied: urllib3<1.27,>=1.21.1 in c:\\users\\nikip\\anaconda3\\lib\\site-packages (from requests->torchvision) (1.26.11)\n",
      "Requirement already satisfied: certifi>=2017.4.17 in c:\\users\\nikip\\anaconda3\\lib\\site-packages (from requests->torchvision) (2022.9.14)\n",
      "Requirement already satisfied: idna<4,>=2.5 in c:\\users\\nikip\\anaconda3\\lib\\site-packages (from requests->torchvision) (3.3)\n",
      "Requirement already satisfied: charset-normalizer<3,>=2 in c:\\users\\nikip\\anaconda3\\lib\\site-packages (from requests->torchvision) (2.0.4)\n"
     ]
    }
   ],
   "source": [
    "!pip install scikit-learn\n",
    "!pip install torchvision"
   ]
  },
  {
   "cell_type": "code",
   "execution_count": 15,
   "id": "561f6cb8",
   "metadata": {},
   "outputs": [],
   "source": [
    "import torch\n",
    "import torchvision\n",
    "import warnings\n",
    "from torchvision import transforms"
   ]
  },
  {
   "cell_type": "code",
   "execution_count": 20,
   "id": "327296aa",
   "metadata": {},
   "outputs": [],
   "source": [
    "transformer = torchvision.transforms.Compose([torchvision.transforms.ToTensor(),\n",
    "                                              transforms.Lambda(lambda x: torch.flatten(x))])\n",
    "\n",
    "data_set = torchvision.datasets.FashionMNIST('./files/fashion-mnist/', train=True, download=True,\n",
    "                             transform=transformer)\n",
    "batch_size=len(data_set)//10"
   ]
  },
  {
   "cell_type": "code",
   "execution_count": 21,
   "id": "199367c5",
   "metadata": {},
   "outputs": [],
   "source": [
    "loader = torch.utils.data.DataLoader(\n",
    "  data_set,\n",
    "  batch_size=batch_size, shuffle=True)\n",
    "\n",
    "train = enumerate(loader)\n",
    "_, (data, targets) = next(train)"
   ]
  },
  {
   "cell_type": "code",
   "execution_count": 22,
   "id": "4551ed85",
   "metadata": {
    "scrolled": false
   },
   "outputs": [
    {
     "data": {
      "text/plain": [
       "0.8146666666666667"
      ]
     },
     "execution_count": 22,
     "metadata": {},
     "output_type": "execute_result"
    }
   ],
   "source": [
    "from sklearn.neighbors import KNeighborsClassifier\n",
    "from sklearn.model_selection import cross_val_score\n",
    "\n",
    "ks = [i+1 for i in range(15)]\n",
    "scores = []\n",
    "\n",
    "for k in ks:\n",
    "    knn = KNeighborsClassifier(n_neighbors=k)\n",
    "    \n",
    "    with warnings.catch_warnings(record=True):\n",
    "        score = cross_val_score(\n",
    "            knn,\n",
    "            data,\n",
    "            targets, \n",
    "            cv=5\n",
    "        )\n",
    "    scores.append(score.mean())\n",
    "max(scores)"
   ]
  },
  {
   "cell_type": "code",
   "execution_count": 27,
   "id": "f792e306",
   "metadata": {
    "scrolled": true
   },
   "outputs": [
    {
     "data": {
      "image/png": "[encoded data removed]",
      "text/plain": [
       "<Figure size 200x200 with 1 Axes>"
      ]
     },
     "metadata": {},
     "output_type": "display_data"
    }
   ],
   "source": [
    "import matplotlib.pyplot as plt\n",
    "import numpy as np\n",
    "plt.style.use('_mpl-gallery')\n",
    "\n",
    "# plot\n",
    "fig, ax = plt.subplots()\n",
    "\n",
    "ax.bar(ks, scores)\n",
    "\n",
    "ax.set(ylim=(0, 1))\n",
    "\n",
    "plt.show()"
   ]
  },
  {
   "cell_type": "markdown",
   "id": "6816d622",
   "metadata": {},
   "source": [
    "Some tests of other algorithms:"
   ]
  },
  {
   "cell_type": "code",
   "execution_count": 86,
   "id": "96c3371f",
   "metadata": {},
   "outputs": [
    {
     "data": {
      "text/plain": [
       "0.8265"
      ]
     },
     "execution_count": 86,
     "metadata": {},
     "output_type": "execute_result"
    }
   ],
   "source": [
    "from sklearn.linear_model import LogisticRegression\n",
    "\n",
    "lr = LogisticRegression(random_state=0, n_jobs=-1)\n",
    "score = cross_val_score(\n",
    "    lr,\n",
    "    data,\n",
    "    targets, \n",
    "    cv=5\n",
    ")\n",
    "score.mean()"
   ]
  },
  {
   "cell_type": "code",
   "execution_count": 70,
   "id": "39a7ad36",
   "metadata": {},
   "outputs": [
    {
     "data": {
      "text/plain": [
       "0.7823333333333333"
      ]
     },
     "execution_count": 70,
     "metadata": {},
     "output_type": "execute_result"
    }
   ],
   "source": [
    "from sklearn.linear_model import Perceptron\n",
    "\n",
    "perceptron = Perceptron(fit_intercept=True, max_iter=10, tol=None, shuffle=False, n_jobs=-1)\n",
    "\n",
    "score = cross_val_score(\n",
    "    perceptron,\n",
    "    data,\n",
    "    targets, \n",
    "    cv=5\n",
    ")\n",
    "score.mean()"
   ]
  },
  {
   "cell_type": "code",
   "execution_count": 67,
   "id": "fb2ee708",
   "metadata": {},
   "outputs": [
    {
     "data": {
      "text/plain": [
       "0.7344999999999999"
      ]
     },
     "execution_count": 67,
     "metadata": {},
     "output_type": "execute_result"
    }
   ],
   "source": [
    "from sklearn.tree import DecisionTreeClassifier\n",
    "dt = DecisionTreeClassifier(max_depth=600, min_samples_split=10)\n",
    "\n",
    "score = cross_val_score(\n",
    "    dt,\n",
    "    data,\n",
    "    targets, \n",
    "    cv=5\n",
    ")\n",
    "\n",
    "score.mean()"
   ]
  },
  {
   "cell_type": "code",
   "execution_count": 68,
   "id": "cc400c6c",
   "metadata": {},
   "outputs": [
    {
     "data": {
      "text/plain": [
       "0.8063333333333332"
      ]
     },
     "execution_count": 68,
     "metadata": {},
     "output_type": "execute_result"
    }
   ],
   "source": [
    "from sklearn.ensemble import AdaBoostClassifier\n",
    "\n",
    "ab = AdaBoostClassifier(DecisionTreeClassifier(max_depth=500, min_samples_split=50), n_estimators=20)\n",
    "\n",
    "score = cross_val_score(\n",
    "    ab,\n",
    "    data,\n",
    "    targets, \n",
    "    cv=5\n",
    ")\n",
    "\n",
    "score.mean()"
   ]
  },
  {
   "cell_type": "code",
   "execution_count": 69,
   "id": "b4f7bb8f",
   "metadata": {},
   "outputs": [
    {
     "data": {
      "text/plain": [
       "0.8456666666666667"
      ]
     },
     "execution_count": 69,
     "metadata": {},
     "output_type": "execute_result"
    }
   ],
   "source": [
    "from sklearn import svm\n",
    "\n",
    "svm = svm.SVC()\n",
    "\n",
    "score = cross_val_score(\n",
    "    svm,\n",
    "    data,\n",
    "    targets, \n",
    "    cv=5\n",
    ")\n",
    "\n",
    "score.mean()"
   ]
  },
  {
   "cell_type": "code",
   "execution_count": null,
   "id": "be233037",
   "metadata": {},
   "outputs": [],
   "source": []
  }
 ],
 "metadata": {
  "kernelspec": {
   "display_name": "Python 3 (ipykernel)",
   "language": "python",
   "name": "python3"
  },
  "language_info": {
   "codemirror_mode": {
    "name": "ipython",
    "version": 3
   },
   "file_extension": ".py",
   "mimetype": "text/x-python",
   "name": "python",
   "nbconvert_exporter": "python",
   "pygments_lexer": "ipython3",
   "version": "3.9.13"
  }
 },
 "nbformat": 4,
 "nbformat_minor": 5
}

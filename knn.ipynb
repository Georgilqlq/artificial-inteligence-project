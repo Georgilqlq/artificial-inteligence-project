{
 "cells": [
  {
   "cell_type": "code",
   "execution_count": 1,
   "id": "fa7c9d36",
   "metadata": {},
   "outputs": [
    {
     "name": "stdout",
     "output_type": "stream",
     "text": [
      "Requirement already satisfied: scikit-learn in c:\\users\\nikip\\anaconda3\\lib\\site-packages (1.0.2)\n",
      "Requirement already satisfied: numpy>=1.14.6 in c:\\users\\nikip\\anaconda3\\lib\\site-packages (from scikit-learn) (1.21.5)\n",
      "Requirement already satisfied: threadpoolctl>=2.0.0 in c:\\users\\nikip\\anaconda3\\lib\\site-packages (from scikit-learn) (2.2.0)\n",
      "Requirement already satisfied: joblib>=0.11 in c:\\users\\nikip\\anaconda3\\lib\\site-packages (from scikit-learn) (1.1.0)\n",
      "Requirement already satisfied: scipy>=1.1.0 in c:\\users\\nikip\\anaconda3\\lib\\site-packages (from scikit-learn) (1.9.1)\n",
      "Requirement already satisfied: torchvision in c:\\users\\nikip\\anaconda3\\lib\\site-packages (0.14.0)\n",
      "Requirement already satisfied: typing-extensions in c:\\users\\nikip\\anaconda3\\lib\\site-packages (from torchvision) (4.3.0)\n",
      "Requirement already satisfied: requests in c:\\users\\nikip\\anaconda3\\lib\\site-packages (from torchvision) (2.28.1)\n",
      "Requirement already satisfied: pillow!=8.3.*,>=5.3.0 in c:\\users\\nikip\\anaconda3\\lib\\site-packages (from torchvision) (9.2.0)\n",
      "Requirement already satisfied: torch==1.13.0 in c:\\users\\nikip\\anaconda3\\lib\\site-packages (from torchvision) (1.13.0)\n",
      "Requirement already satisfied: numpy in c:\\users\\nikip\\anaconda3\\lib\\site-packages (from torchvision) (1.21.5)\n",
      "Requirement already satisfied: urllib3<1.27,>=1.21.1 in c:\\users\\nikip\\anaconda3\\lib\\site-packages (from requests->torchvision) (1.26.11)\n",
      "Requirement already satisfied: certifi>=2017.4.17 in c:\\users\\nikip\\anaconda3\\lib\\site-packages (from requests->torchvision) (2022.9.14)\n",
      "Requirement already satisfied: idna<4,>=2.5 in c:\\users\\nikip\\anaconda3\\lib\\site-packages (from requests->torchvision) (3.3)\n",
      "Requirement already satisfied: charset-normalizer<3,>=2 in c:\\users\\nikip\\anaconda3\\lib\\site-packages (from requests->torchvision) (2.0.4)\n"
     ]
    }
   ],
   "source": [
    "!pip install scikit-learn\n",
    "!pip install torchvision"
   ]
  },
  {
   "cell_type": "code",
   "execution_count": 7,
   "id": "561f6cb8",
   "metadata": {},
   "outputs": [],
   "source": [
    "import torch\n",
    "import torchvision\n",
    "import warnings"
   ]
  },
  {
   "cell_type": "code",
   "execution_count": 17,
   "id": "327296aa",
   "metadata": {},
   "outputs": [
    {
     "name": "stdout",
     "output_type": "stream",
     "text": [
      "Downloading http://fashion-mnist.s3-website.eu-central-1.amazonaws.com/train-images-idx3-ubyte.gz\n",
      "Downloading http://fashion-mnist.s3-website.eu-central-1.amazonaws.com/train-images-idx3-ubyte.gz to ./files/fashion-mnist/FashionMNIST\\raw\\train-images-idx3-ubyte.gz\n"
     ]
    },
    {
     "data": {
      "application/vnd.jupyter.widget-view+json": {
       "model_id": "723da62693494ababd79207bb8ef292d",
       "version_major": 2,
       "version_minor": 0
      },
      "text/plain": [
       "  0%|          | 0/26421880 [00:00<?, ?it/s]"
      ]
     },
     "metadata": {},
     "output_type": "display_data"
    },
    {
     "name": "stdout",
     "output_type": "stream",
     "text": [
      "Extracting ./files/fashion-mnist/FashionMNIST\\raw\\train-images-idx3-ubyte.gz to ./files/fashion-mnist/FashionMNIST\\raw\n",
      "\n",
      "Downloading http://fashion-mnist.s3-website.eu-central-1.amazonaws.com/train-labels-idx1-ubyte.gz\n",
      "Downloading http://fashion-mnist.s3-website.eu-central-1.amazonaws.com/train-labels-idx1-ubyte.gz to ./files/fashion-mnist/FashionMNIST\\raw\\train-labels-idx1-ubyte.gz\n"
     ]
    },
    {
     "data": {
      "application/vnd.jupyter.widget-view+json": {
       "model_id": "25e26a88272e4a8e98f9ea24d16c851a",
       "version_major": 2,
       "version_minor": 0
      },
      "text/plain": [
       "  0%|          | 0/29515 [00:00<?, ?it/s]"
      ]
     },
     "metadata": {},
     "output_type": "display_data"
    },
    {
     "name": "stdout",
     "output_type": "stream",
     "text": [
      "Extracting ./files/fashion-mnist/FashionMNIST\\raw\\train-labels-idx1-ubyte.gz to ./files/fashion-mnist/FashionMNIST\\raw\n",
      "\n",
      "Downloading http://fashion-mnist.s3-website.eu-central-1.amazonaws.com/t10k-images-idx3-ubyte.gz\n",
      "Downloading http://fashion-mnist.s3-website.eu-central-1.amazonaws.com/t10k-images-idx3-ubyte.gz to ./files/fashion-mnist/FashionMNIST\\raw\\t10k-images-idx3-ubyte.gz\n"
     ]
    },
    {
     "data": {
      "application/vnd.jupyter.widget-view+json": {
       "model_id": "9030f926b309406b8dcaf3d961a386f4",
       "version_major": 2,
       "version_minor": 0
      },
      "text/plain": [
       "  0%|          | 0/4422102 [00:00<?, ?it/s]"
      ]
     },
     "metadata": {},
     "output_type": "display_data"
    },
    {
     "name": "stdout",
     "output_type": "stream",
     "text": [
      "Extracting ./files/fashion-mnist/FashionMNIST\\raw\\t10k-images-idx3-ubyte.gz to ./files/fashion-mnist/FashionMNIST\\raw\n",
      "\n",
      "Downloading http://fashion-mnist.s3-website.eu-central-1.amazonaws.com/t10k-labels-idx1-ubyte.gz\n",
      "Downloading http://fashion-mnist.s3-website.eu-central-1.amazonaws.com/t10k-labels-idx1-ubyte.gz to ./files/fashion-mnist/FashionMNIST\\raw\\t10k-labels-idx1-ubyte.gz\n"
     ]
    },
    {
     "data": {
      "application/vnd.jupyter.widget-view+json": {
       "model_id": "e318541eaff0405bb193ed5e2509b096",
       "version_major": 2,
       "version_minor": 0
      },
      "text/plain": [
       "  0%|          | 0/5148 [00:00<?, ?it/s]"
      ]
     },
     "metadata": {},
     "output_type": "display_data"
    },
    {
     "name": "stdout",
     "output_type": "stream",
     "text": [
      "Extracting ./files/fashion-mnist/FashionMNIST\\raw\\t10k-labels-idx1-ubyte.gz to ./files/fashion-mnist/FashionMNIST\\raw\n",
      "\n"
     ]
    }
   ],
   "source": [
    "train_set=torchvision.datasets.FashionMNIST('./files/fashion-mnist/', train=True, download=True,\n",
    "                             transform=transformer)\n",
    "\n",
    "test_set=torchvision.datasets.FashionMNIST('./files/fashion-mnist/', train=False, download=True,\n",
    "                             transform=transformer)\n",
    "\n",
    "batch_size_train= (int)(len(train_set)/10)\n",
    "batch_size_test=len(test_set)"
   ]
  },
  {
   "cell_type": "code",
   "execution_count": 18,
   "id": "199367c5",
   "metadata": {},
   "outputs": [],
   "source": [
    "transformer = torchvision.transforms.Compose([torchvision.transforms.ToTensor()])\n",
    "\n",
    "train_loader = torch.utils.data.DataLoader(\n",
    "  train_set,\n",
    "  batch_size=batch_size_train, shuffle=True)\n",
    "\n",
    "test_loader = torch.utils.data.DataLoader(\n",
    "  test_set,\n",
    "  batch_size=batch_size_test, shuffle=True)\n",
    "\n",
    "train = enumerate(train_loader)\n",
    "_, (train_data, train_targets) = next(train)\n",
    "\n",
    "test = enumerate(test_loader)\n",
    "_, (test_data, test_targets) = next(test)\n"
   ]
  },
  {
   "cell_type": "code",
   "execution_count": 19,
   "id": "4551ed85",
   "metadata": {
    "scrolled": false
   },
   "outputs": [],
   "source": [
    "from sklearn.neighbors import KNeighborsClassifier\n",
    "\n",
    "ks = [i+1 for i in range(15)]\n",
    "procents = []\n",
    "\n",
    "for k in ks:\n",
    "    knn = KNeighborsClassifier(n_neighbors=k)\n",
    "    successes = 0\n",
    "    attempts = 0\n",
    "\n",
    "    knn.fit(torch.flatten(train_data, start_dim=1, end_dim=3), train_targets)\n",
    "    \n",
    "    with warnings.catch_warnings(record=True):\n",
    "        results = knn.predict(torch.flatten(test_data, start_dim=1, end_dim=3))\n",
    "\n",
    "    for i in range(len(results)):\n",
    "        if results[i] == test_targets[i]:\n",
    "            successes += 1\n",
    "        attempts += 1\n",
    "\n",
    "    procents.append(100*successes/attempts)"
   ]
  },
  {
   "cell_type": "code",
   "execution_count": 21,
   "id": "f792e306",
   "metadata": {},
   "outputs": [
    {
     "data": {
      "image/png": "[encoded data removed]",
      "text/plain": [
       "<Figure size 200x200 with 1 Axes>"
      ]
     },
     "metadata": {},
     "output_type": "display_data"
    }
   ],
   "source": [
    "import matplotlib.pyplot as plt\n",
    "import numpy as np\n",
    "plt.style.use('_mpl-gallery')\n",
    "\n",
    "# plot\n",
    "fig, ax = plt.subplots()\n",
    "\n",
    "ax.bar(ks, procents)\n",
    "\n",
    "ax.set(ylim=(50, 100))\n",
    "\n",
    "plt.show()"
   ]
  },
  {
   "cell_type": "code",
   "execution_count": null,
   "id": "39a7ad36",
   "metadata": {},
   "outputs": [],
   "source": []
  }
 ],
 "metadata": {
  "kernelspec": {
   "display_name": "Python 3 (ipykernel)",
   "language": "python",
   "name": "python3"
  },
  "language_info": {
   "codemirror_mode": {
    "name": "ipython",
    "version": 3
   },
   "file_extension": ".py",
   "mimetype": "text/x-python",
   "name": "python",
   "nbconvert_exporter": "python",
   "pygments_lexer": "ipython3",
   "version": "3.9.13"
  }
 },
 "nbformat": 4,
 "nbformat_minor": 5
}
